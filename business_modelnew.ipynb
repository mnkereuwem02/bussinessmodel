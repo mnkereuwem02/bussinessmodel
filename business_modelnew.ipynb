{
 "cells": [
  {
   "cell_type": "markdown",
   "id": "a69368c6",
   "metadata": {},
   "source": [
    "Business Analytics Model On a sales Dataset using the Random Forest Classifier"
   ]
  },
  {
   "cell_type": "code",
   "execution_count": 92,
   "id": "804e6df6",
   "metadata": {},
   "outputs": [],
   "source": [
    "# Import necessary libraries\n",
    "import pandas as pd\n",
    "import numpy as np\n",
    "import statsmodels.api as sm\n",
    "import seaborn as sns\n",
    "import matplotlib.pyplot as plt\n",
    "from sklearn.model_selection import train_test_split\n",
    "from sklearn.preprocessing import LabelEncoder, StandardScaler\n",
    "from sklearn.ensemble import RandomForestClassifier\n",
    "from sklearn.metrics import classification_report, confusion_matrix, roc_auc_score\n",
    "from sklearn.cluster import KMeans\n",
    "import joblib"
   ]
  },
  {
   "cell_type": "code",
   "execution_count": 93,
   "id": "2f6f5573",
   "metadata": {},
   "outputs": [],
   "source": [
    "df = pd.read_csv('sales_dataset.csv')"
   ]
  },
  {
   "cell_type": "code",
   "execution_count": 94,
   "id": "e697ef11",
   "metadata": {},
   "outputs": [
    {
     "name": "stdout",
     "output_type": "stream",
     "text": [
      "Order ID        0\n",
      "Amount          0\n",
      "Profit          0\n",
      "Quantity        0\n",
      "Category        0\n",
      "Sub-Category    0\n",
      "PaymentMode     0\n",
      "Order Date      0\n",
      "CustomerName    0\n",
      "State           0\n",
      "City            0\n",
      "Year-Month      0\n",
      "dtype: int64\n"
     ]
    }
   ],
   "source": [
    "print(df.isnull().sum()) #identifying missing values"
   ]
  },
  {
   "cell_type": "code",
   "execution_count": 95,
   "id": "67d06684-db95-4e78-8323-32e638d6d538",
   "metadata": {},
   "outputs": [
    {
     "name": "stdout",
     "output_type": "stream",
     "text": [
      "<class 'pandas.core.frame.DataFrame'>\n",
      "RangeIndex: 1194 entries, 0 to 1193\n",
      "Data columns (total 12 columns):\n",
      " #   Column        Non-Null Count  Dtype \n",
      "---  ------        --------------  ----- \n",
      " 0   Order ID      1194 non-null   object\n",
      " 1   Amount        1194 non-null   int64 \n",
      " 2   Profit        1194 non-null   int64 \n",
      " 3   Quantity      1194 non-null   int64 \n",
      " 4   Category      1194 non-null   object\n",
      " 5   Sub-Category  1194 non-null   object\n",
      " 6   PaymentMode   1194 non-null   object\n",
      " 7   Order Date    1194 non-null   object\n",
      " 8   CustomerName  1194 non-null   object\n",
      " 9   State         1194 non-null   object\n",
      " 10  City          1194 non-null   object\n",
      " 11  Year-Month    1194 non-null   object\n",
      "dtypes: int64(3), object(9)\n",
      "memory usage: 112.1+ KB\n"
     ]
    }
   ],
   "source": [
    "df.info()"
   ]
  },
  {
   "cell_type": "code",
   "execution_count": 96,
   "id": "a0bbc97a",
   "metadata": {},
   "outputs": [
    {
     "data": {
      "text/html": [
       "<div>\n",
       "<style scoped>\n",
       "    .dataframe tbody tr th:only-of-type {\n",
       "        vertical-align: middle;\n",
       "    }\n",
       "\n",
       "    .dataframe tbody tr th {\n",
       "        vertical-align: top;\n",
       "    }\n",
       "\n",
       "    .dataframe thead th {\n",
       "        text-align: right;\n",
       "    }\n",
       "</style>\n",
       "<table border=\"1\" class=\"dataframe\">\n",
       "  <thead>\n",
       "    <tr style=\"text-align: right;\">\n",
       "      <th></th>\n",
       "      <th>Order ID</th>\n",
       "      <th>Amount</th>\n",
       "      <th>Profit</th>\n",
       "      <th>Quantity</th>\n",
       "      <th>Category</th>\n",
       "      <th>Sub-Category</th>\n",
       "      <th>PaymentMode</th>\n",
       "      <th>Order Date</th>\n",
       "      <th>CustomerName</th>\n",
       "      <th>State</th>\n",
       "      <th>City</th>\n",
       "      <th>Year-Month</th>\n",
       "    </tr>\n",
       "  </thead>\n",
       "  <tbody>\n",
       "    <tr>\n",
       "      <th>0</th>\n",
       "      <td>B-26776</td>\n",
       "      <td>9726</td>\n",
       "      <td>1275</td>\n",
       "      <td>5</td>\n",
       "      <td>Electronics</td>\n",
       "      <td>Electronic Games</td>\n",
       "      <td>UPI</td>\n",
       "      <td>6/27/2023</td>\n",
       "      <td>David Padilla</td>\n",
       "      <td>Florida</td>\n",
       "      <td>Miami</td>\n",
       "      <td>2023-06</td>\n",
       "    </tr>\n",
       "    <tr>\n",
       "      <th>1</th>\n",
       "      <td>B-26776</td>\n",
       "      <td>9726</td>\n",
       "      <td>1275</td>\n",
       "      <td>5</td>\n",
       "      <td>Electronics</td>\n",
       "      <td>Electronic Games</td>\n",
       "      <td>UPI</td>\n",
       "      <td>12/27/2024</td>\n",
       "      <td>Connor Morgan</td>\n",
       "      <td>Illinois</td>\n",
       "      <td>Chicago</td>\n",
       "      <td>2024-12</td>\n",
       "    </tr>\n",
       "    <tr>\n",
       "      <th>2</th>\n",
       "      <td>B-26776</td>\n",
       "      <td>9726</td>\n",
       "      <td>1275</td>\n",
       "      <td>5</td>\n",
       "      <td>Electronics</td>\n",
       "      <td>Electronic Games</td>\n",
       "      <td>UPI</td>\n",
       "      <td>7/25/2021</td>\n",
       "      <td>Robert Stone</td>\n",
       "      <td>New York</td>\n",
       "      <td>Buffalo</td>\n",
       "      <td>2021-07</td>\n",
       "    </tr>\n",
       "    <tr>\n",
       "      <th>3</th>\n",
       "      <td>B-26776</td>\n",
       "      <td>4975</td>\n",
       "      <td>1330</td>\n",
       "      <td>14</td>\n",
       "      <td>Electronics</td>\n",
       "      <td>Printers</td>\n",
       "      <td>UPI</td>\n",
       "      <td>6/27/2023</td>\n",
       "      <td>David Padilla</td>\n",
       "      <td>Florida</td>\n",
       "      <td>Miami</td>\n",
       "      <td>2023-06</td>\n",
       "    </tr>\n",
       "    <tr>\n",
       "      <th>4</th>\n",
       "      <td>B-26776</td>\n",
       "      <td>4975</td>\n",
       "      <td>1330</td>\n",
       "      <td>14</td>\n",
       "      <td>Electronics</td>\n",
       "      <td>Printers</td>\n",
       "      <td>UPI</td>\n",
       "      <td>12/27/2024</td>\n",
       "      <td>Connor Morgan</td>\n",
       "      <td>Illinois</td>\n",
       "      <td>Chicago</td>\n",
       "      <td>2024-12</td>\n",
       "    </tr>\n",
       "  </tbody>\n",
       "</table>\n",
       "</div>"
      ],
      "text/plain": [
       "  Order ID  Amount  Profit  Quantity     Category      Sub-Category  \\\n",
       "0  B-26776    9726    1275         5  Electronics  Electronic Games   \n",
       "1  B-26776    9726    1275         5  Electronics  Electronic Games   \n",
       "2  B-26776    9726    1275         5  Electronics  Electronic Games   \n",
       "3  B-26776    4975    1330        14  Electronics          Printers   \n",
       "4  B-26776    4975    1330        14  Electronics          Printers   \n",
       "\n",
       "  PaymentMode  Order Date   CustomerName     State     City Year-Month  \n",
       "0         UPI   6/27/2023  David Padilla   Florida    Miami    2023-06  \n",
       "1         UPI  12/27/2024  Connor Morgan  Illinois  Chicago    2024-12  \n",
       "2         UPI   7/25/2021   Robert Stone  New York  Buffalo    2021-07  \n",
       "3         UPI   6/27/2023  David Padilla   Florida    Miami    2023-06  \n",
       "4         UPI  12/27/2024  Connor Morgan  Illinois  Chicago    2024-12  "
      ]
     },
     "execution_count": 96,
     "metadata": {},
     "output_type": "execute_result"
    }
   ],
   "source": [
    "df. head(5)"
   ]
  },
  {
   "cell_type": "code",
   "execution_count": 97,
   "id": "84163b86-26cc-45b8-9264-2eed2b575b95",
   "metadata": {},
   "outputs": [
    {
     "data": {
      "text/plain": [
       "array(['Electronics', 'Office Supplies', 'Furniture'], dtype=object)"
      ]
     },
     "execution_count": 97,
     "metadata": {},
     "output_type": "execute_result"
    }
   ],
   "source": [
    "df.Category.unique()"
   ]
  },
  {
   "cell_type": "code",
   "execution_count": 98,
   "id": "b827f7d6-e841-4838-9c5e-ce8a1e950bb7",
   "metadata": {},
   "outputs": [
    {
     "data": {
      "text/plain": [
       "array(['Electronic Games', 'Printers', 'Pens', 'Laptops', 'Tables',\n",
       "       'Chairs', 'Markers', 'Sofas', 'Paper', 'Binders', 'Phones',\n",
       "       'Bookcases'], dtype=object)"
      ]
     },
     "execution_count": 98,
     "metadata": {},
     "output_type": "execute_result"
    }
   ],
   "source": [
    "df[\"Sub-Category\"].unique()"
   ]
  },
  {
   "cell_type": "code",
   "execution_count": 99,
   "id": "11fa34aa-021c-449b-ad3b-70660f97c655",
   "metadata": {},
   "outputs": [],
   "source": [
    "df['Order Date'] = pd.to_datetime(df['Order Date'])\n",
    "\n",
    "# Step 2: Extract Day, Month, and Year into new columns\n",
    "# df['Order Day'] = df['Order Date'].dt.day\n",
    "df['Order Month'] = df['Order Date'].dt.month\n",
    "df['Order Year'] = df['Order Date'].dt.year"
   ]
  },
  {
   "cell_type": "code",
   "execution_count": 100,
   "id": "2cc44330-a218-4138-8671-0398de1ebf10",
   "metadata": {},
   "outputs": [],
   "source": [
    "df.drop(columns=['Order Date', 'Year-Month', 'Order ID', 'Order Month', 'CustomerName'], inplace=True)"
   ]
  },
  {
   "cell_type": "code",
   "execution_count": 101,
   "id": "63689c27",
   "metadata": {},
   "outputs": [],
   "source": [
    "df['Price'] = df['Amount'] / df['Quantity']"
   ]
  },
  {
   "cell_type": "code",
   "execution_count": 102,
   "id": "e51669fc",
   "metadata": {},
   "outputs": [],
   "source": [
    "# For demand elasticity we want to see how changes in price affect quantity sales.\n",
    "# Create log-transformed features:\n",
    "df['log_Quantity'] = np.log(df['Quantity'])\n",
    "df['log_Price'] = np.log(df['Price'])\n",
    "# Note: In a log-log (elasticity) regression, the coefficient on log_Price represents elasticity."
   ]
  },
  {
   "cell_type": "code",
   "execution_count": 103,
   "id": "3895374d",
   "metadata": {},
   "outputs": [],
   "source": [
    "competitor_df = pd.read_csv('SampleSuperstore.csv')"
   ]
  },
  {
   "cell_type": "code",
   "execution_count": 104,
   "id": "25c87410",
   "metadata": {},
   "outputs": [
    {
     "name": "stdout",
     "output_type": "stream",
     "text": [
      "<class 'pandas.core.frame.DataFrame'>\n",
      "RangeIndex: 9994 entries, 0 to 9993\n",
      "Data columns (total 13 columns):\n",
      " #   Column        Non-Null Count  Dtype  \n",
      "---  ------        --------------  -----  \n",
      " 0   Ship Mode     9994 non-null   object \n",
      " 1   Segment       9994 non-null   object \n",
      " 2   Country       9994 non-null   object \n",
      " 3   City          9994 non-null   object \n",
      " 4   State         9994 non-null   object \n",
      " 5   Postal Code   9994 non-null   int64  \n",
      " 6   Region        9994 non-null   object \n",
      " 7   Category      9994 non-null   object \n",
      " 8   Sub-Category  9994 non-null   object \n",
      " 9   Sales         9994 non-null   float64\n",
      " 10  Quantity      9994 non-null   int64  \n",
      " 11  Discount      9994 non-null   float64\n",
      " 12  Profit        9994 non-null   float64\n",
      "dtypes: float64(3), int64(2), object(8)\n",
      "memory usage: 1015.1+ KB\n"
     ]
    }
   ],
   "source": [
    "competitor_df.info()"
   ]
  },
  {
   "cell_type": "code",
   "execution_count": 105,
   "id": "1b70eec2",
   "metadata": {},
   "outputs": [],
   "source": [
    "competitor_df['Price'] = competitor_df['Sales'] / competitor_df['Quantity']"
   ]
  },
  {
   "cell_type": "code",
   "execution_count": 106,
   "id": "376ca644",
   "metadata": {},
   "outputs": [],
   "source": [
    "competitor_df.drop(columns=['Postal Code', 'Ship Mode', 'Country', 'City', 'State', 'Region', 'Segment', 'Sales'],inplace=True)"
   ]
  },
  {
   "cell_type": "code",
   "execution_count": 107,
   "id": "6651ea95",
   "metadata": {},
   "outputs": [
    {
     "name": "stdout",
     "output_type": "stream",
     "text": [
      "Category        0\n",
      "Sub-Category    0\n",
      "Quantity        0\n",
      "Discount        0\n",
      "Profit          0\n",
      "Price           0\n",
      "dtype: int64\n"
     ]
    }
   ],
   "source": [
    "print(competitor_df.isnull().sum()) #identifying missing values"
   ]
  },
  {
   "cell_type": "code",
   "execution_count": 108,
   "id": "51273b77",
   "metadata": {},
   "outputs": [],
   "source": [
    "df_join = df.merge(competitor_df, how='left', on=['Category', 'Sub-Category'])"
   ]
  },
  {
   "cell_type": "code",
   "execution_count": 109,
   "id": "0dda949b",
   "metadata": {},
   "outputs": [
    {
     "data": {
      "text/html": [
       "<div>\n",
       "<style scoped>\n",
       "    .dataframe tbody tr th:only-of-type {\n",
       "        vertical-align: middle;\n",
       "    }\n",
       "\n",
       "    .dataframe tbody tr th {\n",
       "        vertical-align: top;\n",
       "    }\n",
       "\n",
       "    .dataframe thead th {\n",
       "        text-align: right;\n",
       "    }\n",
       "</style>\n",
       "<table border=\"1\" class=\"dataframe\">\n",
       "  <thead>\n",
       "    <tr style=\"text-align: right;\">\n",
       "      <th></th>\n",
       "      <th>Amount</th>\n",
       "      <th>Profit_x</th>\n",
       "      <th>Quantity_x</th>\n",
       "      <th>Category</th>\n",
       "      <th>Sub-Category</th>\n",
       "      <th>PaymentMode</th>\n",
       "      <th>State</th>\n",
       "      <th>City</th>\n",
       "      <th>Order Year</th>\n",
       "      <th>Price_x</th>\n",
       "      <th>log_Quantity</th>\n",
       "      <th>log_Price</th>\n",
       "      <th>Quantity_y</th>\n",
       "      <th>Discount</th>\n",
       "      <th>Profit_y</th>\n",
       "      <th>Price_y</th>\n",
       "    </tr>\n",
       "  </thead>\n",
       "  <tbody>\n",
       "    <tr>\n",
       "      <th>0</th>\n",
       "      <td>9726</td>\n",
       "      <td>1275</td>\n",
       "      <td>5</td>\n",
       "      <td>Electronics</td>\n",
       "      <td>Electronic Games</td>\n",
       "      <td>UPI</td>\n",
       "      <td>Florida</td>\n",
       "      <td>Miami</td>\n",
       "      <td>2023</td>\n",
       "      <td>1945.200000</td>\n",
       "      <td>1.609438</td>\n",
       "      <td>7.573120</td>\n",
       "      <td>NaN</td>\n",
       "      <td>NaN</td>\n",
       "      <td>NaN</td>\n",
       "      <td>NaN</td>\n",
       "    </tr>\n",
       "    <tr>\n",
       "      <th>1</th>\n",
       "      <td>9726</td>\n",
       "      <td>1275</td>\n",
       "      <td>5</td>\n",
       "      <td>Electronics</td>\n",
       "      <td>Electronic Games</td>\n",
       "      <td>UPI</td>\n",
       "      <td>Illinois</td>\n",
       "      <td>Chicago</td>\n",
       "      <td>2024</td>\n",
       "      <td>1945.200000</td>\n",
       "      <td>1.609438</td>\n",
       "      <td>7.573120</td>\n",
       "      <td>NaN</td>\n",
       "      <td>NaN</td>\n",
       "      <td>NaN</td>\n",
       "      <td>NaN</td>\n",
       "    </tr>\n",
       "    <tr>\n",
       "      <th>2</th>\n",
       "      <td>9726</td>\n",
       "      <td>1275</td>\n",
       "      <td>5</td>\n",
       "      <td>Electronics</td>\n",
       "      <td>Electronic Games</td>\n",
       "      <td>UPI</td>\n",
       "      <td>New York</td>\n",
       "      <td>Buffalo</td>\n",
       "      <td>2021</td>\n",
       "      <td>1945.200000</td>\n",
       "      <td>1.609438</td>\n",
       "      <td>7.573120</td>\n",
       "      <td>NaN</td>\n",
       "      <td>NaN</td>\n",
       "      <td>NaN</td>\n",
       "      <td>NaN</td>\n",
       "    </tr>\n",
       "    <tr>\n",
       "      <th>3</th>\n",
       "      <td>4975</td>\n",
       "      <td>1330</td>\n",
       "      <td>14</td>\n",
       "      <td>Electronics</td>\n",
       "      <td>Printers</td>\n",
       "      <td>UPI</td>\n",
       "      <td>Florida</td>\n",
       "      <td>Miami</td>\n",
       "      <td>2023</td>\n",
       "      <td>355.357143</td>\n",
       "      <td>2.639057</td>\n",
       "      <td>5.873123</td>\n",
       "      <td>NaN</td>\n",
       "      <td>NaN</td>\n",
       "      <td>NaN</td>\n",
       "      <td>NaN</td>\n",
       "    </tr>\n",
       "    <tr>\n",
       "      <th>4</th>\n",
       "      <td>4975</td>\n",
       "      <td>1330</td>\n",
       "      <td>14</td>\n",
       "      <td>Electronics</td>\n",
       "      <td>Printers</td>\n",
       "      <td>UPI</td>\n",
       "      <td>Illinois</td>\n",
       "      <td>Chicago</td>\n",
       "      <td>2024</td>\n",
       "      <td>355.357143</td>\n",
       "      <td>2.639057</td>\n",
       "      <td>5.873123</td>\n",
       "      <td>NaN</td>\n",
       "      <td>NaN</td>\n",
       "      <td>NaN</td>\n",
       "      <td>NaN</td>\n",
       "    </tr>\n",
       "    <tr>\n",
       "      <th>...</th>\n",
       "      <td>...</td>\n",
       "      <td>...</td>\n",
       "      <td>...</td>\n",
       "      <td>...</td>\n",
       "      <td>...</td>\n",
       "      <td>...</td>\n",
       "      <td>...</td>\n",
       "      <td>...</td>\n",
       "      <td>...</td>\n",
       "      <td>...</td>\n",
       "      <td>...</td>\n",
       "      <td>...</td>\n",
       "      <td>...</td>\n",
       "      <td>...</td>\n",
       "      <td>...</td>\n",
       "      <td>...</td>\n",
       "    </tr>\n",
       "    <tr>\n",
       "      <th>361527</th>\n",
       "      <td>8825</td>\n",
       "      <td>3594</td>\n",
       "      <td>15</td>\n",
       "      <td>Furniture</td>\n",
       "      <td>Tables</td>\n",
       "      <td>Debit Card</td>\n",
       "      <td>New York</td>\n",
       "      <td>New York City</td>\n",
       "      <td>2024</td>\n",
       "      <td>588.333333</td>\n",
       "      <td>2.708050</td>\n",
       "      <td>6.377294</td>\n",
       "      <td>1.0</td>\n",
       "      <td>0.0</td>\n",
       "      <td>22.3548</td>\n",
       "      <td>85.98</td>\n",
       "    </tr>\n",
       "    <tr>\n",
       "      <th>361528</th>\n",
       "      <td>2082</td>\n",
       "      <td>642</td>\n",
       "      <td>8</td>\n",
       "      <td>Electronics</td>\n",
       "      <td>Phones</td>\n",
       "      <td>EMI</td>\n",
       "      <td>New York</td>\n",
       "      <td>Rochester</td>\n",
       "      <td>2020</td>\n",
       "      <td>260.250000</td>\n",
       "      <td>2.079442</td>\n",
       "      <td>5.561643</td>\n",
       "      <td>NaN</td>\n",
       "      <td>NaN</td>\n",
       "      <td>NaN</td>\n",
       "      <td>NaN</td>\n",
       "    </tr>\n",
       "    <tr>\n",
       "      <th>361529</th>\n",
       "      <td>2082</td>\n",
       "      <td>642</td>\n",
       "      <td>8</td>\n",
       "      <td>Electronics</td>\n",
       "      <td>Phones</td>\n",
       "      <td>EMI</td>\n",
       "      <td>Texas</td>\n",
       "      <td>Austin</td>\n",
       "      <td>2022</td>\n",
       "      <td>260.250000</td>\n",
       "      <td>2.079442</td>\n",
       "      <td>5.561643</td>\n",
       "      <td>NaN</td>\n",
       "      <td>NaN</td>\n",
       "      <td>NaN</td>\n",
       "      <td>NaN</td>\n",
       "    </tr>\n",
       "    <tr>\n",
       "      <th>361530</th>\n",
       "      <td>2082</td>\n",
       "      <td>642</td>\n",
       "      <td>8</td>\n",
       "      <td>Electronics</td>\n",
       "      <td>Phones</td>\n",
       "      <td>EMI</td>\n",
       "      <td>New York</td>\n",
       "      <td>Buffalo</td>\n",
       "      <td>2020</td>\n",
       "      <td>260.250000</td>\n",
       "      <td>2.079442</td>\n",
       "      <td>5.561643</td>\n",
       "      <td>NaN</td>\n",
       "      <td>NaN</td>\n",
       "      <td>NaN</td>\n",
       "      <td>NaN</td>\n",
       "    </tr>\n",
       "    <tr>\n",
       "      <th>361531</th>\n",
       "      <td>914</td>\n",
       "      <td>163</td>\n",
       "      <td>13</td>\n",
       "      <td>Office Supplies</td>\n",
       "      <td>Markers</td>\n",
       "      <td>UPI</td>\n",
       "      <td>Illinois</td>\n",
       "      <td>Chicago</td>\n",
       "      <td>2024</td>\n",
       "      <td>70.307692</td>\n",
       "      <td>2.564949</td>\n",
       "      <td>4.252881</td>\n",
       "      <td>NaN</td>\n",
       "      <td>NaN</td>\n",
       "      <td>NaN</td>\n",
       "      <td>NaN</td>\n",
       "    </tr>\n",
       "  </tbody>\n",
       "</table>\n",
       "<p>361532 rows × 16 columns</p>\n",
       "</div>"
      ],
      "text/plain": [
       "        Amount  Profit_x  Quantity_x         Category      Sub-Category  \\\n",
       "0         9726      1275           5      Electronics  Electronic Games   \n",
       "1         9726      1275           5      Electronics  Electronic Games   \n",
       "2         9726      1275           5      Electronics  Electronic Games   \n",
       "3         4975      1330          14      Electronics          Printers   \n",
       "4         4975      1330          14      Electronics          Printers   \n",
       "...        ...       ...         ...              ...               ...   \n",
       "361527    8825      3594          15        Furniture            Tables   \n",
       "361528    2082       642           8      Electronics            Phones   \n",
       "361529    2082       642           8      Electronics            Phones   \n",
       "361530    2082       642           8      Electronics            Phones   \n",
       "361531     914       163          13  Office Supplies           Markers   \n",
       "\n",
       "       PaymentMode     State           City  Order Year      Price_x  \\\n",
       "0              UPI   Florida          Miami        2023  1945.200000   \n",
       "1              UPI  Illinois        Chicago        2024  1945.200000   \n",
       "2              UPI  New York        Buffalo        2021  1945.200000   \n",
       "3              UPI   Florida          Miami        2023   355.357143   \n",
       "4              UPI  Illinois        Chicago        2024   355.357143   \n",
       "...            ...       ...            ...         ...          ...   \n",
       "361527  Debit Card  New York  New York City        2024   588.333333   \n",
       "361528         EMI  New York      Rochester        2020   260.250000   \n",
       "361529         EMI     Texas         Austin        2022   260.250000   \n",
       "361530         EMI  New York        Buffalo        2020   260.250000   \n",
       "361531         UPI  Illinois        Chicago        2024    70.307692   \n",
       "\n",
       "        log_Quantity  log_Price  Quantity_y  Discount  Profit_y  Price_y  \n",
       "0           1.609438   7.573120         NaN       NaN       NaN      NaN  \n",
       "1           1.609438   7.573120         NaN       NaN       NaN      NaN  \n",
       "2           1.609438   7.573120         NaN       NaN       NaN      NaN  \n",
       "3           2.639057   5.873123         NaN       NaN       NaN      NaN  \n",
       "4           2.639057   5.873123         NaN       NaN       NaN      NaN  \n",
       "...              ...        ...         ...       ...       ...      ...  \n",
       "361527      2.708050   6.377294         1.0       0.0   22.3548    85.98  \n",
       "361528      2.079442   5.561643         NaN       NaN       NaN      NaN  \n",
       "361529      2.079442   5.561643         NaN       NaN       NaN      NaN  \n",
       "361530      2.079442   5.561643         NaN       NaN       NaN      NaN  \n",
       "361531      2.564949   4.252881         NaN       NaN       NaN      NaN  \n",
       "\n",
       "[361532 rows x 16 columns]"
      ]
     },
     "execution_count": 109,
     "metadata": {},
     "output_type": "execute_result"
    }
   ],
   "source": [
    "df_join"
   ]
  },
  {
   "cell_type": "code",
   "execution_count": 110,
   "id": "e374f91d",
   "metadata": {},
   "outputs": [],
   "source": [
    "df = df_join.dropna()"
   ]
  },
  {
   "cell_type": "code",
   "execution_count": 111,
   "id": "de411eaf",
   "metadata": {},
   "outputs": [
    {
     "name": "stdout",
     "output_type": "stream",
     "text": [
      "<class 'pandas.core.frame.DataFrame'>\n",
      "Index: 360806 entries, 9 to 361527\n",
      "Data columns (total 16 columns):\n",
      " #   Column        Non-Null Count   Dtype  \n",
      "---  ------        --------------   -----  \n",
      " 0   Amount        360806 non-null  int64  \n",
      " 1   Profit_x      360806 non-null  int64  \n",
      " 2   Quantity_x    360806 non-null  int64  \n",
      " 3   Category      360806 non-null  object \n",
      " 4   Sub-Category  360806 non-null  object \n",
      " 5   PaymentMode   360806 non-null  object \n",
      " 6   State         360806 non-null  object \n",
      " 7   City          360806 non-null  object \n",
      " 8   Order Year    360806 non-null  int32  \n",
      " 9   Price_x       360806 non-null  float64\n",
      " 10  log_Quantity  360806 non-null  float64\n",
      " 11  log_Price     360806 non-null  float64\n",
      " 12  Quantity_y    360806 non-null  float64\n",
      " 13  Discount      360806 non-null  float64\n",
      " 14  Profit_y      360806 non-null  float64\n",
      " 15  Price_y       360806 non-null  float64\n",
      "dtypes: float64(7), int32(1), int64(3), object(5)\n",
      "memory usage: 45.4+ MB\n"
     ]
    }
   ],
   "source": [
    "df.info()"
   ]
  },
  {
   "cell_type": "code",
   "execution_count": 112,
   "id": "19553b4a",
   "metadata": {},
   "outputs": [
    {
     "name": "stdout",
     "output_type": "stream",
     "text": [
      "Amount            int64\n",
      "Profit_x          int64\n",
      "Quantity_x        int64\n",
      "Category         object\n",
      "Sub-Category     object\n",
      "PaymentMode      object\n",
      "State            object\n",
      "City             object\n",
      "Order Year        int32\n",
      "Price_x         float64\n",
      "log_Quantity    float64\n",
      "log_Price       float64\n",
      "Quantity_y      float64\n",
      "Discount        float64\n",
      "Profit_y        float64\n",
      "Price_y         float64\n",
      "dtype: object\n"
     ]
    }
   ],
   "source": [
    "print (df.dtypes)"
   ]
  },
  {
   "cell_type": "code",
   "execution_count": 113,
   "id": "ab5b743f",
   "metadata": {},
   "outputs": [
    {
     "name": "stderr",
     "output_type": "stream",
     "text": [
      "C:\\Users\\Sparkhiee\\AppData\\Local\\Temp\\ipykernel_9076\\2225730555.py:1: SettingWithCopyWarning: \n",
      "A value is trying to be set on a copy of a slice from a DataFrame.\n",
      "Try using .loc[row_indexer,col_indexer] = value instead\n",
      "\n",
      "See the caveats in the documentation: https://pandas.pydata.org/pandas-docs/stable/user_guide/indexing.html#returning-a-view-versus-a-copy\n",
      "  df['Price_Ratio'] = df['Price_x'] / df['Price_y']\n"
     ]
    }
   ],
   "source": [
    "df['Price_Ratio'] = df['Price_x'] / df['Price_y']"
   ]
  },
  {
   "cell_type": "code",
   "execution_count": 114,
   "id": "ec910b6b",
   "metadata": {},
   "outputs": [
    {
     "data": {
      "text/plain": [
       "9          2.652200\n",
       "10         2.679334\n",
       "11         1.458710\n",
       "12         1.934926\n",
       "13         4.933827\n",
       "            ...    \n",
       "361523     1.386892\n",
       "361524     1.779657\n",
       "361525    16.552254\n",
       "361526     4.301185\n",
       "361527     6.842677\n",
       "Name: Price_Ratio, Length: 360806, dtype: float64"
      ]
     },
     "execution_count": 114,
     "metadata": {},
     "output_type": "execute_result"
    }
   ],
   "source": [
    "df['Price_Ratio']"
   ]
  },
  {
   "cell_type": "code",
   "execution_count": 115,
   "id": "7d5abba5",
   "metadata": {},
   "outputs": [
    {
     "name": "stderr",
     "output_type": "stream",
     "text": [
      "C:\\Users\\Sparkhiee\\AppData\\Local\\Temp\\ipykernel_9076\\682629909.py:6: SettingWithCopyWarning: \n",
      "A value is trying to be set on a copy of a slice from a DataFrame.\n",
      "Try using .loc[row_indexer,col_indexer] = value instead\n",
      "\n",
      "See the caveats in the documentation: https://pandas.pydata.org/pandas-docs/stable/user_guide/indexing.html#returning-a-view-versus-a-copy\n",
      "  df[col] = le.fit_transform(df[col])\n",
      "C:\\Users\\Sparkhiee\\AppData\\Local\\Temp\\ipykernel_9076\\682629909.py:6: SettingWithCopyWarning: \n",
      "A value is trying to be set on a copy of a slice from a DataFrame.\n",
      "Try using .loc[row_indexer,col_indexer] = value instead\n",
      "\n",
      "See the caveats in the documentation: https://pandas.pydata.org/pandas-docs/stable/user_guide/indexing.html#returning-a-view-versus-a-copy\n",
      "  df[col] = le.fit_transform(df[col])\n",
      "C:\\Users\\Sparkhiee\\AppData\\Local\\Temp\\ipykernel_9076\\682629909.py:6: SettingWithCopyWarning: \n",
      "A value is trying to be set on a copy of a slice from a DataFrame.\n",
      "Try using .loc[row_indexer,col_indexer] = value instead\n",
      "\n",
      "See the caveats in the documentation: https://pandas.pydata.org/pandas-docs/stable/user_guide/indexing.html#returning-a-view-versus-a-copy\n",
      "  df[col] = le.fit_transform(df[col])\n",
      "C:\\Users\\Sparkhiee\\AppData\\Local\\Temp\\ipykernel_9076\\682629909.py:6: SettingWithCopyWarning: \n",
      "A value is trying to be set on a copy of a slice from a DataFrame.\n",
      "Try using .loc[row_indexer,col_indexer] = value instead\n",
      "\n",
      "See the caveats in the documentation: https://pandas.pydata.org/pandas-docs/stable/user_guide/indexing.html#returning-a-view-versus-a-copy\n",
      "  df[col] = le.fit_transform(df[col])\n",
      "C:\\Users\\Sparkhiee\\AppData\\Local\\Temp\\ipykernel_9076\\682629909.py:6: SettingWithCopyWarning: \n",
      "A value is trying to be set on a copy of a slice from a DataFrame.\n",
      "Try using .loc[row_indexer,col_indexer] = value instead\n",
      "\n",
      "See the caveats in the documentation: https://pandas.pydata.org/pandas-docs/stable/user_guide/indexing.html#returning-a-view-versus-a-copy\n",
      "  df[col] = le.fit_transform(df[col])\n",
      "C:\\Users\\Sparkhiee\\AppData\\Local\\Temp\\ipykernel_9076\\682629909.py:6: SettingWithCopyWarning: \n",
      "A value is trying to be set on a copy of a slice from a DataFrame.\n",
      "Try using .loc[row_indexer,col_indexer] = value instead\n",
      "\n",
      "See the caveats in the documentation: https://pandas.pydata.org/pandas-docs/stable/user_guide/indexing.html#returning-a-view-versus-a-copy\n",
      "  df[col] = le.fit_transform(df[col])\n",
      "C:\\Users\\Sparkhiee\\AppData\\Local\\Temp\\ipykernel_9076\\682629909.py:6: SettingWithCopyWarning: \n",
      "A value is trying to be set on a copy of a slice from a DataFrame.\n",
      "Try using .loc[row_indexer,col_indexer] = value instead\n",
      "\n",
      "See the caveats in the documentation: https://pandas.pydata.org/pandas-docs/stable/user_guide/indexing.html#returning-a-view-versus-a-copy\n",
      "  df[col] = le.fit_transform(df[col])\n",
      "C:\\Users\\Sparkhiee\\AppData\\Local\\Temp\\ipykernel_9076\\682629909.py:6: SettingWithCopyWarning: \n",
      "A value is trying to be set on a copy of a slice from a DataFrame.\n",
      "Try using .loc[row_indexer,col_indexer] = value instead\n",
      "\n",
      "See the caveats in the documentation: https://pandas.pydata.org/pandas-docs/stable/user_guide/indexing.html#returning-a-view-versus-a-copy\n",
      "  df[col] = le.fit_transform(df[col])\n"
     ]
    }
   ],
   "source": [
    "categorical_cols = ['PaymentMode', 'State', 'City', 'Category', 'Sub-Category', 'Discount', 'Profit_y', 'Profit_x']\n",
    "# Correct: Select features directly from df]\n",
    "label_encoders = {}\n",
    "for col in categorical_cols:\n",
    "    le = LabelEncoder()\n",
    "    df[col] = le.fit_transform(df[col])\n",
    "    label_encoders[col] = le"
   ]
  },
  {
   "cell_type": "code",
   "execution_count": 116,
   "id": "ce2d3a3e",
   "metadata": {},
   "outputs": [
    {
     "name": "stderr",
     "output_type": "stream",
     "text": [
      "C:\\Users\\Sparkhiee\\AppData\\Local\\Temp\\ipykernel_9076\\1406737460.py:1: SettingWithCopyWarning: \n",
      "A value is trying to be set on a copy of a slice from a DataFrame.\n",
      "Try using .loc[row_indexer,col_indexer] = value instead\n",
      "\n",
      "See the caveats in the documentation: https://pandas.pydata.org/pandas-docs/stable/user_guide/indexing.html#returning-a-view-versus-a-copy\n",
      "  df['Profit_Margin'] = df['Profit_x'] / df['Amount']\n"
     ]
    }
   ],
   "source": [
    "df['Profit_Margin'] = df['Profit_x'] / df['Amount']"
   ]
  },
  {
   "cell_type": "code",
   "execution_count": 117,
   "id": "04ae6922",
   "metadata": {},
   "outputs": [
    {
     "name": "stdout",
     "output_type": "stream",
     "text": [
      "<class 'pandas.core.frame.DataFrame'>\n",
      "Index: 360806 entries, 9 to 361527\n",
      "Data columns (total 18 columns):\n",
      " #   Column         Non-Null Count   Dtype  \n",
      "---  ------         --------------   -----  \n",
      " 0   Amount         360806 non-null  int64  \n",
      " 1   Profit_x       360806 non-null  int64  \n",
      " 2   Quantity_x     360806 non-null  int64  \n",
      " 3   Category       360806 non-null  int64  \n",
      " 4   Sub-Category   360806 non-null  int64  \n",
      " 5   PaymentMode    360806 non-null  int64  \n",
      " 6   State          360806 non-null  int64  \n",
      " 7   City           360806 non-null  int64  \n",
      " 8   Order Year     360806 non-null  int32  \n",
      " 9   Price_x        360806 non-null  float64\n",
      " 10  log_Quantity   360806 non-null  float64\n",
      " 11  log_Price      360806 non-null  float64\n",
      " 12  Quantity_y     360806 non-null  float64\n",
      " 13  Discount       360806 non-null  int64  \n",
      " 14  Profit_y       360806 non-null  int64  \n",
      " 15  Price_y        360806 non-null  float64\n",
      " 16  Price_Ratio    360806 non-null  float64\n",
      " 17  Profit_Margin  360806 non-null  float64\n",
      "dtypes: float64(7), int32(1), int64(10)\n",
      "memory usage: 50.9 MB\n"
     ]
    }
   ],
   "source": [
    "df.info()"
   ]
  },
  {
   "cell_type": "code",
   "execution_count": 118,
   "id": "b5c9edeb",
   "metadata": {},
   "outputs": [
    {
     "name": "stderr",
     "output_type": "stream",
     "text": [
      "C:\\Users\\Sparkhiee\\AppData\\Local\\Temp\\ipykernel_9076\\1722680231.py:8: SettingWithCopyWarning: \n",
      "A value is trying to be set on a copy of a slice from a DataFrame.\n",
      "Try using .loc[row_indexer,col_indexer] = value instead\n",
      "\n",
      "See the caveats in the documentation: https://pandas.pydata.org/pandas-docs/stable/user_guide/indexing.html#returning-a-view-versus-a-copy\n",
      "  df['Customer_Segment'] = kmeans.fit_predict(X_cluster)\n"
     ]
    }
   ],
   "source": [
    "# Use selected features that reflect customer behavior (e.g. PaymentMode, State, City, Profit_Margin).\n",
    "clustering_features = df[['PaymentMode', 'State', 'City', 'Profit_Margin']]\n",
    "scaler = StandardScaler()\n",
    "X_cluster = scaler.fit_transform(clustering_features)\n",
    "\n",
    "# Apply KMeans to group customers into, say, 3 segments.\n",
    "kmeans = KMeans(n_clusters=4, random_state=42)\n",
    "df['Customer_Segment'] = kmeans.fit_predict(X_cluster)"
   ]
  },
  {
   "cell_type": "code",
   "execution_count": 119,
   "id": "11714e5e",
   "metadata": {},
   "outputs": [
    {
     "name": "stdout",
     "output_type": "stream",
     "text": [
      "(360806, 4)\n"
     ]
    }
   ],
   "source": [
    "print(X_cluster.shape)  # Should be (1194, n_features)"
   ]
  },
  {
   "cell_type": "code",
   "execution_count": 120,
   "id": "3df0f353",
   "metadata": {},
   "outputs": [
    {
     "name": "stdout",
     "output_type": "stream",
     "text": [
      "                                 OLS Regression Results                                \n",
      "=======================================================================================\n",
      "Dep. Variable:           log_Quantity   R-squared (uncentered):                   0.787\n",
      "Model:                            OLS   Adj. R-squared (uncentered):              0.787\n",
      "Method:                 Least Squares   F-statistic:                          4.437e+05\n",
      "Date:                Mon, 02 Jun 2025   Prob (F-statistic):                        0.00\n",
      "Time:                        10:31:39   Log-Likelihood:                     -5.1741e+05\n",
      "No. Observations:              360806   AIC:                                  1.035e+06\n",
      "Df Residuals:                  360803   BIC:                                  1.035e+06\n",
      "Df Model:                           3                                                  \n",
      "Covariance Type:            nonrobust                                                  \n",
      "====================================================================================\n",
      "                       coef    std err          t      P>|t|      [0.025      0.975]\n",
      "------------------------------------------------------------------------------------\n",
      "log_Price            0.2670      0.000    559.477      0.000       0.266       0.268\n",
      "Price_Ratio         -0.0006   3.01e-06   -190.049      0.000      -0.001      -0.001\n",
      "Customer_Segment     0.1950      0.002    129.587      0.000       0.192       0.198\n",
      "==============================================================================\n",
      "Omnibus:                    25728.316   Durbin-Watson:                   0.131\n",
      "Prob(Omnibus):                  0.000   Jarque-Bera (JB):            41517.518\n",
      "Skew:                          -0.562   Prob(JB):                         0.00\n",
      "Kurtosis:                       4.225   Cond. No.                         551.\n",
      "==============================================================================\n",
      "\n",
      "Notes:\n",
      "[1] R² is computed without centering (uncentered) since the model does not contain a constant.\n",
      "[2] Standard Errors assume that the covariance matrix of the errors is correctly specified.\n"
     ]
    }
   ],
   "source": [
    "X = df[['log_Price', 'Price_Ratio', 'Customer_Segment']]\n",
    "X_clean = X.dropna()\n",
    "\n",
    "X = sm.add_constant(X)   # Add constant term (intercept)\n",
    "y = df['log_Quantity']\n",
    "y_clean = y.loc[X_clean.index]\n",
    "elasticity_model = sm.OLS(y_clean, X_clean).fit()\n",
    "print(elasticity_model.summary())"
   ]
  },
  {
   "cell_type": "code",
   "execution_count": 121,
   "id": "5768182a",
   "metadata": {},
   "outputs": [],
   "source": [
    "# STEP 6: BUILDING A MACHINE LEARNING MODEL FOR DEMAND PREDICTION\n",
    "features_ml = ['Price_x', 'Price_y', 'Price_Ratio', 'Customer_Segment', \n",
    "               'PaymentMode', 'State', 'City','Order Year']\n",
    "X_ml = df[features_ml]\n",
    "y_ml = df['Quantity_x']"
   ]
  },
  {
   "cell_type": "code",
   "execution_count": 122,
   "id": "50538a5b",
   "metadata": {},
   "outputs": [
    {
     "data": {
      "text/plain": [
       "<bound method DataFrame.info of            Price_x   Price_y  Price_Ratio  Customer_Segment  PaymentMode  \\\n",
       "9       507.937500  191.5155     2.652200                 0            1   \n",
       "10      507.937500  189.5760     2.679334                 0            1   \n",
       "11      507.937500  348.2100     1.458710                 0            1   \n",
       "12      507.937500  262.5100     1.934926                 0            1   \n",
       "13      507.937500  102.9500     4.933827                 0            1   \n",
       "...            ...       ...          ...               ...          ...   \n",
       "361523  588.333333  424.2100     1.386892                 1            2   \n",
       "361524  588.333333  330.5880     1.779657                 1            2   \n",
       "361525  588.333333   35.5440    16.552254                 1            2   \n",
       "361526  588.333333  136.7840     4.301185                 1            2   \n",
       "361527  588.333333   85.9800     6.842677                 1            2   \n",
       "\n",
       "        State  City  Order Year  \n",
       "9           0     8        2022  \n",
       "10          0     8        2022  \n",
       "11          0     8        2022  \n",
       "12          0     8        2022  \n",
       "13          0     8        2022  \n",
       "...       ...   ...         ...  \n",
       "361523      3    10        2024  \n",
       "361524      3    10        2024  \n",
       "361525      3    10        2024  \n",
       "361526      3    10        2024  \n",
       "361527      3    10        2024  \n",
       "\n",
       "[360806 rows x 8 columns]>"
      ]
     },
     "execution_count": 122,
     "metadata": {},
     "output_type": "execute_result"
    }
   ],
   "source": [
    "X_ml.info"
   ]
  },
  {
   "cell_type": "code",
   "execution_count": null,
   "id": "94576f9c",
   "metadata": {},
   "outputs": [],
   "source": [
    "# Splitting the data into features and target\n",
    "X = df.drop(columns=['Quantity_x'])\n",
    "y = df['Quantity_x']"
   ]
  },
  {
   "cell_type": "code",
   "execution_count": 124,
   "id": "37ba3161",
   "metadata": {},
   "outputs": [],
   "source": [
    "# Split the data into train and test sets.\n",
    "X_train, X_test, y_train, y_test = train_test_split(X_ml, y_ml, test_size=0.3, random_state=42)"
   ]
  },
  {
   "cell_type": "code",
   "execution_count": 125,
   "id": "5bd41074",
   "metadata": {},
   "outputs": [],
   "source": [
    "from sklearn.preprocessing import StandardScaler\n",
    "\n",
    "\n",
    "scaler = StandardScaler()\n",
    "X_train = scaler.fit_transform(X_train)\n",
    "X_test = scaler.transform(X_test)"
   ]
  },
  {
   "cell_type": "code",
   "execution_count": 126,
   "id": "bb16e06d",
   "metadata": {},
   "outputs": [
    {
     "name": "stdout",
     "output_type": "stream",
     "text": [
      "<class 'pandas.core.frame.DataFrame'>\n",
      "Index: 360806 entries, 9 to 361527\n",
      "Data columns (total 19 columns):\n",
      " #   Column            Non-Null Count   Dtype  \n",
      "---  ------            --------------   -----  \n",
      " 0   Amount            360806 non-null  int64  \n",
      " 1   Profit_x          360806 non-null  int64  \n",
      " 2   Quantity_x        360806 non-null  int64  \n",
      " 3   Category          360806 non-null  int64  \n",
      " 4   Sub-Category      360806 non-null  int64  \n",
      " 5   PaymentMode       360806 non-null  int64  \n",
      " 6   State             360806 non-null  int64  \n",
      " 7   City              360806 non-null  int64  \n",
      " 8   Order Year        360806 non-null  int32  \n",
      " 9   Price_x           360806 non-null  float64\n",
      " 10  log_Quantity      360806 non-null  float64\n",
      " 11  log_Price         360806 non-null  float64\n",
      " 12  Quantity_y        360806 non-null  float64\n",
      " 13  Discount          360806 non-null  int64  \n",
      " 14  Profit_y          360806 non-null  int64  \n",
      " 15  Price_y           360806 non-null  float64\n",
      " 16  Price_Ratio       360806 non-null  float64\n",
      " 17  Profit_Margin     360806 non-null  float64\n",
      " 18  Customer_Segment  360806 non-null  int32  \n",
      "dtypes: float64(7), int32(2), int64(10)\n",
      "memory usage: 60.4 MB\n"
     ]
    }
   ],
   "source": [
    "df.info()"
   ]
  },
  {
   "cell_type": "code",
   "execution_count": 127,
   "id": "eea45682",
   "metadata": {},
   "outputs": [],
   "source": [
    "#from sklearn.tree import ExtraTreeRegressor\n",
    "from sklearn.ensemble import RandomForestRegressor\n",
    "\n",
    "#Building and training the model\n",
    "model = RandomForestRegressor(random_state=42)\n",
    "model.fit(X_train, y_train)\n",
    "y_pred = model.predict(X_test)"
   ]
  },
  {
   "cell_type": "code",
   "execution_count": 128,
   "id": "4618066f-8c20-4de9-b40d-09f3fa4fa9f1",
   "metadata": {},
   "outputs": [
    {
     "data": {
      "text/html": [
       "<div>\n",
       "<style scoped>\n",
       "    .dataframe tbody tr th:only-of-type {\n",
       "        vertical-align: middle;\n",
       "    }\n",
       "\n",
       "    .dataframe tbody tr th {\n",
       "        vertical-align: top;\n",
       "    }\n",
       "\n",
       "    .dataframe thead th {\n",
       "        text-align: right;\n",
       "    }\n",
       "</style>\n",
       "<table border=\"1\" class=\"dataframe\">\n",
       "  <thead>\n",
       "    <tr style=\"text-align: right;\">\n",
       "      <th></th>\n",
       "      <th>Amount</th>\n",
       "      <th>Profit_x</th>\n",
       "      <th>Quantity_x</th>\n",
       "      <th>Category</th>\n",
       "      <th>Sub-Category</th>\n",
       "      <th>PaymentMode</th>\n",
       "      <th>State</th>\n",
       "      <th>City</th>\n",
       "      <th>Order Year</th>\n",
       "      <th>Price_x</th>\n",
       "      <th>log_Quantity</th>\n",
       "      <th>log_Price</th>\n",
       "      <th>Quantity_y</th>\n",
       "      <th>Discount</th>\n",
       "      <th>Profit_y</th>\n",
       "      <th>Price_y</th>\n",
       "      <th>Price_Ratio</th>\n",
       "      <th>Profit_Margin</th>\n",
       "      <th>Customer_Segment</th>\n",
       "    </tr>\n",
       "  </thead>\n",
       "  <tbody>\n",
       "    <tr>\n",
       "      <th>9</th>\n",
       "      <td>8127</td>\n",
       "      <td>276</td>\n",
       "      <td>16</td>\n",
       "      <td>0</td>\n",
       "      <td>4</td>\n",
       "      <td>1</td>\n",
       "      <td>0</td>\n",
       "      <td>8</td>\n",
       "      <td>2022</td>\n",
       "      <td>507.9375</td>\n",
       "      <td>2.772589</td>\n",
       "      <td>6.230358</td>\n",
       "      <td>5.0</td>\n",
       "      <td>7</td>\n",
       "      <td>48</td>\n",
       "      <td>191.5155</td>\n",
       "      <td>2.652200</td>\n",
       "      <td>0.033961</td>\n",
       "      <td>0</td>\n",
       "    </tr>\n",
       "    <tr>\n",
       "      <th>10</th>\n",
       "      <td>8127</td>\n",
       "      <td>276</td>\n",
       "      <td>16</td>\n",
       "      <td>0</td>\n",
       "      <td>4</td>\n",
       "      <td>1</td>\n",
       "      <td>0</td>\n",
       "      <td>8</td>\n",
       "      <td>2022</td>\n",
       "      <td>507.9375</td>\n",
       "      <td>2.772589</td>\n",
       "      <td>6.230358</td>\n",
       "      <td>9.0</td>\n",
       "      <td>3</td>\n",
       "      <td>2594</td>\n",
       "      <td>189.5760</td>\n",
       "      <td>2.679334</td>\n",
       "      <td>0.033961</td>\n",
       "      <td>0</td>\n",
       "    </tr>\n",
       "    <tr>\n",
       "      <th>11</th>\n",
       "      <td>8127</td>\n",
       "      <td>276</td>\n",
       "      <td>16</td>\n",
       "      <td>0</td>\n",
       "      <td>4</td>\n",
       "      <td>1</td>\n",
       "      <td>0</td>\n",
       "      <td>8</td>\n",
       "      <td>2022</td>\n",
       "      <td>507.9375</td>\n",
       "      <td>2.772589</td>\n",
       "      <td>6.230358</td>\n",
       "      <td>3.0</td>\n",
       "      <td>0</td>\n",
       "      <td>2799</td>\n",
       "      <td>348.2100</td>\n",
       "      <td>1.458710</td>\n",
       "      <td>0.033961</td>\n",
       "      <td>0</td>\n",
       "    </tr>\n",
       "    <tr>\n",
       "      <th>12</th>\n",
       "      <td>8127</td>\n",
       "      <td>276</td>\n",
       "      <td>16</td>\n",
       "      <td>0</td>\n",
       "      <td>4</td>\n",
       "      <td>1</td>\n",
       "      <td>0</td>\n",
       "      <td>8</td>\n",
       "      <td>2022</td>\n",
       "      <td>507.9375</td>\n",
       "      <td>2.772589</td>\n",
       "      <td>6.230358</td>\n",
       "      <td>3.0</td>\n",
       "      <td>0</td>\n",
       "      <td>2745</td>\n",
       "      <td>262.5100</td>\n",
       "      <td>1.934926</td>\n",
       "      <td>0.033961</td>\n",
       "      <td>0</td>\n",
       "    </tr>\n",
       "    <tr>\n",
       "      <th>13</th>\n",
       "      <td>8127</td>\n",
       "      <td>276</td>\n",
       "      <td>16</td>\n",
       "      <td>0</td>\n",
       "      <td>4</td>\n",
       "      <td>1</td>\n",
       "      <td>0</td>\n",
       "      <td>8</td>\n",
       "      <td>2022</td>\n",
       "      <td>507.9375</td>\n",
       "      <td>2.772589</td>\n",
       "      <td>6.230358</td>\n",
       "      <td>6.0</td>\n",
       "      <td>8</td>\n",
       "      <td>46</td>\n",
       "      <td>102.9500</td>\n",
       "      <td>4.933827</td>\n",
       "      <td>0.033961</td>\n",
       "      <td>0</td>\n",
       "    </tr>\n",
       "  </tbody>\n",
       "</table>\n",
       "</div>"
      ],
      "text/plain": [
       "    Amount  Profit_x  Quantity_x  Category  Sub-Category  PaymentMode  State  \\\n",
       "9     8127       276          16         0             4            1      0   \n",
       "10    8127       276          16         0             4            1      0   \n",
       "11    8127       276          16         0             4            1      0   \n",
       "12    8127       276          16         0             4            1      0   \n",
       "13    8127       276          16         0             4            1      0   \n",
       "\n",
       "    City  Order Year   Price_x  log_Quantity  log_Price  Quantity_y  Discount  \\\n",
       "9      8        2022  507.9375      2.772589   6.230358         5.0         7   \n",
       "10     8        2022  507.9375      2.772589   6.230358         9.0         3   \n",
       "11     8        2022  507.9375      2.772589   6.230358         3.0         0   \n",
       "12     8        2022  507.9375      2.772589   6.230358         3.0         0   \n",
       "13     8        2022  507.9375      2.772589   6.230358         6.0         8   \n",
       "\n",
       "    Profit_y   Price_y  Price_Ratio  Profit_Margin  Customer_Segment  \n",
       "9         48  191.5155     2.652200       0.033961                 0  \n",
       "10      2594  189.5760     2.679334       0.033961                 0  \n",
       "11      2799  348.2100     1.458710       0.033961                 0  \n",
       "12      2745  262.5100     1.934926       0.033961                 0  \n",
       "13        46  102.9500     4.933827       0.033961                 0  "
      ]
     },
     "execution_count": 128,
     "metadata": {},
     "output_type": "execute_result"
    }
   ],
   "source": [
    "df.head()"
   ]
  },
  {
   "cell_type": "code",
   "execution_count": 129,
   "id": "33366dca-5183-4999-b22f-09d9de2964d3",
   "metadata": {},
   "outputs": [
    {
     "data": {
      "text/plain": [
       "Amount              0\n",
       "Profit_x            0\n",
       "Quantity_x          0\n",
       "Category            0\n",
       "Sub-Category        0\n",
       "PaymentMode         0\n",
       "State               0\n",
       "City                0\n",
       "Order Year          0\n",
       "Price_x             0\n",
       "log_Quantity        0\n",
       "log_Price           0\n",
       "Quantity_y          0\n",
       "Discount            0\n",
       "Profit_y            0\n",
       "Price_y             0\n",
       "Price_Ratio         0\n",
       "Profit_Margin       0\n",
       "Customer_Segment    0\n",
       "dtype: int64"
      ]
     },
     "execution_count": 129,
     "metadata": {},
     "output_type": "execute_result"
    }
   ],
   "source": [
    "df.isnull().sum()"
   ]
  },
  {
   "cell_type": "code",
   "execution_count": 130,
   "id": "d9b0191d",
   "metadata": {},
   "outputs": [
    {
     "name": "stdout",
     "output_type": "stream",
     "text": [
      "<class 'pandas.core.frame.DataFrame'>\n",
      "Index: 360806 entries, 9 to 361527\n",
      "Data columns (total 19 columns):\n",
      " #   Column            Non-Null Count   Dtype  \n",
      "---  ------            --------------   -----  \n",
      " 0   Amount            360806 non-null  int64  \n",
      " 1   Profit_x          360806 non-null  int64  \n",
      " 2   Quantity_x        360806 non-null  int64  \n",
      " 3   Category          360806 non-null  int64  \n",
      " 4   Sub-Category      360806 non-null  int64  \n",
      " 5   PaymentMode       360806 non-null  int64  \n",
      " 6   State             360806 non-null  int64  \n",
      " 7   City              360806 non-null  int64  \n",
      " 8   Order Year        360806 non-null  int32  \n",
      " 9   Price_x           360806 non-null  float64\n",
      " 10  log_Quantity      360806 non-null  float64\n",
      " 11  log_Price         360806 non-null  float64\n",
      " 12  Quantity_y        360806 non-null  float64\n",
      " 13  Discount          360806 non-null  int64  \n",
      " 14  Profit_y          360806 non-null  int64  \n",
      " 15  Price_y           360806 non-null  float64\n",
      " 16  Price_Ratio       360806 non-null  float64\n",
      " 17  Profit_Margin     360806 non-null  float64\n",
      " 18  Customer_Segment  360806 non-null  int32  \n",
      "dtypes: float64(7), int32(2), int64(10)\n",
      "memory usage: 60.4 MB\n"
     ]
    }
   ],
   "source": [
    "df.info()"
   ]
  },
  {
   "cell_type": "code",
   "execution_count": 131,
   "id": "2dc7f835-7c61-4ffc-bf65-7e075e56e489",
   "metadata": {},
   "outputs": [
    {
     "data": {
      "text/html": [
       "<div>\n",
       "<style scoped>\n",
       "    .dataframe tbody tr th:only-of-type {\n",
       "        vertical-align: middle;\n",
       "    }\n",
       "\n",
       "    .dataframe tbody tr th {\n",
       "        vertical-align: top;\n",
       "    }\n",
       "\n",
       "    .dataframe thead th {\n",
       "        text-align: right;\n",
       "    }\n",
       "</style>\n",
       "<table border=\"1\" class=\"dataframe\">\n",
       "  <thead>\n",
       "    <tr style=\"text-align: right;\">\n",
       "      <th></th>\n",
       "      <th>count</th>\n",
       "      <th>mean</th>\n",
       "      <th>std</th>\n",
       "      <th>min</th>\n",
       "      <th>25%</th>\n",
       "      <th>50%</th>\n",
       "      <th>75%</th>\n",
       "      <th>max</th>\n",
       "    </tr>\n",
       "  </thead>\n",
       "  <tbody>\n",
       "    <tr>\n",
       "      <th>Amount</th>\n",
       "      <td>360806.0</td>\n",
       "      <td>5168.516527</td>\n",
       "      <td>2819.725052</td>\n",
       "      <td>514.000000</td>\n",
       "      <td>2939.000000</td>\n",
       "      <td>4985.000000</td>\n",
       "      <td>7620.000000</td>\n",
       "      <td>9989.000000</td>\n",
       "    </tr>\n",
       "    <tr>\n",
       "      <th>Profit_x</th>\n",
       "      <td>360806.0</td>\n",
       "      <td>142.762631</td>\n",
       "      <td>86.535986</td>\n",
       "      <td>0.000000</td>\n",
       "      <td>65.000000</td>\n",
       "      <td>148.000000</td>\n",
       "      <td>215.000000</td>\n",
       "      <td>296.000000</td>\n",
       "    </tr>\n",
       "    <tr>\n",
       "      <th>Quantity_x</th>\n",
       "      <td>360806.0</td>\n",
       "      <td>9.928233</td>\n",
       "      <td>5.807659</td>\n",
       "      <td>1.000000</td>\n",
       "      <td>5.000000</td>\n",
       "      <td>9.000000</td>\n",
       "      <td>15.000000</td>\n",
       "      <td>20.000000</td>\n",
       "    </tr>\n",
       "    <tr>\n",
       "      <th>Category</th>\n",
       "      <td>360806.0</td>\n",
       "      <td>0.694592</td>\n",
       "      <td>0.460581</td>\n",
       "      <td>0.000000</td>\n",
       "      <td>0.000000</td>\n",
       "      <td>1.000000</td>\n",
       "      <td>1.000000</td>\n",
       "      <td>1.000000</td>\n",
       "    </tr>\n",
       "    <tr>\n",
       "      <th>Sub-Category</th>\n",
       "      <td>360806.0</td>\n",
       "      <td>1.955616</td>\n",
       "      <td>1.441800</td>\n",
       "      <td>0.000000</td>\n",
       "      <td>0.000000</td>\n",
       "      <td>3.000000</td>\n",
       "      <td>3.000000</td>\n",
       "      <td>4.000000</td>\n",
       "    </tr>\n",
       "    <tr>\n",
       "      <th>PaymentMode</th>\n",
       "      <td>360806.0</td>\n",
       "      <td>2.077657</td>\n",
       "      <td>1.428717</td>\n",
       "      <td>0.000000</td>\n",
       "      <td>1.000000</td>\n",
       "      <td>2.000000</td>\n",
       "      <td>3.000000</td>\n",
       "      <td>4.000000</td>\n",
       "    </tr>\n",
       "    <tr>\n",
       "      <th>State</th>\n",
       "      <td>360806.0</td>\n",
       "      <td>2.208250</td>\n",
       "      <td>1.653330</td>\n",
       "      <td>0.000000</td>\n",
       "      <td>1.000000</td>\n",
       "      <td>2.000000</td>\n",
       "      <td>4.000000</td>\n",
       "      <td>5.000000</td>\n",
       "    </tr>\n",
       "    <tr>\n",
       "      <th>City</th>\n",
       "      <td>360806.0</td>\n",
       "      <td>9.075309</td>\n",
       "      <td>5.279447</td>\n",
       "      <td>0.000000</td>\n",
       "      <td>4.000000</td>\n",
       "      <td>9.000000</td>\n",
       "      <td>14.000000</td>\n",
       "      <td>17.000000</td>\n",
       "    </tr>\n",
       "    <tr>\n",
       "      <th>Order Year</th>\n",
       "      <td>360806.0</td>\n",
       "      <td>2022.322508</td>\n",
       "      <td>1.461892</td>\n",
       "      <td>2020.000000</td>\n",
       "      <td>2021.000000</td>\n",
       "      <td>2022.000000</td>\n",
       "      <td>2024.000000</td>\n",
       "      <td>2025.000000</td>\n",
       "    </tr>\n",
       "    <tr>\n",
       "      <th>Price_x</th>\n",
       "      <td>360806.0</td>\n",
       "      <td>995.751442</td>\n",
       "      <td>1445.576777</td>\n",
       "      <td>26.550000</td>\n",
       "      <td>295.875000</td>\n",
       "      <td>532.500000</td>\n",
       "      <td>1070.375000</td>\n",
       "      <td>9894.000000</td>\n",
       "    </tr>\n",
       "    <tr>\n",
       "      <th>log_Quantity</th>\n",
       "      <td>360806.0</td>\n",
       "      <td>2.041457</td>\n",
       "      <td>0.815564</td>\n",
       "      <td>0.000000</td>\n",
       "      <td>1.609438</td>\n",
       "      <td>2.197225</td>\n",
       "      <td>2.708050</td>\n",
       "      <td>2.995732</td>\n",
       "    </tr>\n",
       "    <tr>\n",
       "      <th>log_Price</th>\n",
       "      <td>360806.0</td>\n",
       "      <td>6.294124</td>\n",
       "      <td>1.104333</td>\n",
       "      <td>3.279030</td>\n",
       "      <td>5.689937</td>\n",
       "      <td>6.277583</td>\n",
       "      <td>6.975764</td>\n",
       "      <td>9.199684</td>\n",
       "    </tr>\n",
       "    <tr>\n",
       "      <th>Quantity_y</th>\n",
       "      <td>360806.0</td>\n",
       "      <td>3.841400</td>\n",
       "      <td>2.283144</td>\n",
       "      <td>1.000000</td>\n",
       "      <td>2.000000</td>\n",
       "      <td>3.000000</td>\n",
       "      <td>5.000000</td>\n",
       "      <td>14.000000</td>\n",
       "    </tr>\n",
       "    <tr>\n",
       "      <th>Discount</th>\n",
       "      <td>360806.0</td>\n",
       "      <td>2.839157</td>\n",
       "      <td>3.059174</td>\n",
       "      <td>0.000000</td>\n",
       "      <td>0.000000</td>\n",
       "      <td>3.000000</td>\n",
       "      <td>3.000000</td>\n",
       "      <td>10.000000</td>\n",
       "    </tr>\n",
       "    <tr>\n",
       "      <th>Profit_y</th>\n",
       "      <td>360806.0</td>\n",
       "      <td>1518.657575</td>\n",
       "      <td>789.773179</td>\n",
       "      <td>0.000000</td>\n",
       "      <td>943.000000</td>\n",
       "      <td>1540.000000</td>\n",
       "      <td>2168.000000</td>\n",
       "      <td>2911.000000</td>\n",
       "    </tr>\n",
       "    <tr>\n",
       "      <th>Price_y</th>\n",
       "      <td>360806.0</td>\n",
       "      <td>61.941040</td>\n",
       "      <td>112.188931</td>\n",
       "      <td>0.336000</td>\n",
       "      <td>5.184000</td>\n",
       "      <td>13.632000</td>\n",
       "      <td>73.915000</td>\n",
       "      <td>1889.990000</td>\n",
       "    </tr>\n",
       "    <tr>\n",
       "      <th>Price_Ratio</th>\n",
       "      <td>360806.0</td>\n",
       "      <td>164.203870</td>\n",
       "      <td>575.615702</td>\n",
       "      <td>0.028278</td>\n",
       "      <td>6.012039</td>\n",
       "      <td>33.619975</td>\n",
       "      <td>125.713735</td>\n",
       "      <td>29446.428571</td>\n",
       "    </tr>\n",
       "    <tr>\n",
       "      <th>Profit_Margin</th>\n",
       "      <td>360806.0</td>\n",
       "      <td>0.030302</td>\n",
       "      <td>0.016320</td>\n",
       "      <td>0.000000</td>\n",
       "      <td>0.019969</td>\n",
       "      <td>0.028744</td>\n",
       "      <td>0.041851</td>\n",
       "      <td>0.086743</td>\n",
       "    </tr>\n",
       "    <tr>\n",
       "      <th>Customer_Segment</th>\n",
       "      <td>360806.0</td>\n",
       "      <td>1.612387</td>\n",
       "      <td>1.111899</td>\n",
       "      <td>0.000000</td>\n",
       "      <td>1.000000</td>\n",
       "      <td>2.000000</td>\n",
       "      <td>3.000000</td>\n",
       "      <td>3.000000</td>\n",
       "    </tr>\n",
       "  </tbody>\n",
       "</table>\n",
       "</div>"
      ],
      "text/plain": [
       "                     count         mean          std          min  \\\n",
       "Amount            360806.0  5168.516527  2819.725052   514.000000   \n",
       "Profit_x          360806.0   142.762631    86.535986     0.000000   \n",
       "Quantity_x        360806.0     9.928233     5.807659     1.000000   \n",
       "Category          360806.0     0.694592     0.460581     0.000000   \n",
       "Sub-Category      360806.0     1.955616     1.441800     0.000000   \n",
       "PaymentMode       360806.0     2.077657     1.428717     0.000000   \n",
       "State             360806.0     2.208250     1.653330     0.000000   \n",
       "City              360806.0     9.075309     5.279447     0.000000   \n",
       "Order Year        360806.0  2022.322508     1.461892  2020.000000   \n",
       "Price_x           360806.0   995.751442  1445.576777    26.550000   \n",
       "log_Quantity      360806.0     2.041457     0.815564     0.000000   \n",
       "log_Price         360806.0     6.294124     1.104333     3.279030   \n",
       "Quantity_y        360806.0     3.841400     2.283144     1.000000   \n",
       "Discount          360806.0     2.839157     3.059174     0.000000   \n",
       "Profit_y          360806.0  1518.657575   789.773179     0.000000   \n",
       "Price_y           360806.0    61.941040   112.188931     0.336000   \n",
       "Price_Ratio       360806.0   164.203870   575.615702     0.028278   \n",
       "Profit_Margin     360806.0     0.030302     0.016320     0.000000   \n",
       "Customer_Segment  360806.0     1.612387     1.111899     0.000000   \n",
       "\n",
       "                          25%          50%          75%           max  \n",
       "Amount            2939.000000  4985.000000  7620.000000   9989.000000  \n",
       "Profit_x            65.000000   148.000000   215.000000    296.000000  \n",
       "Quantity_x           5.000000     9.000000    15.000000     20.000000  \n",
       "Category             0.000000     1.000000     1.000000      1.000000  \n",
       "Sub-Category         0.000000     3.000000     3.000000      4.000000  \n",
       "PaymentMode          1.000000     2.000000     3.000000      4.000000  \n",
       "State                1.000000     2.000000     4.000000      5.000000  \n",
       "City                 4.000000     9.000000    14.000000     17.000000  \n",
       "Order Year        2021.000000  2022.000000  2024.000000   2025.000000  \n",
       "Price_x            295.875000   532.500000  1070.375000   9894.000000  \n",
       "log_Quantity         1.609438     2.197225     2.708050      2.995732  \n",
       "log_Price            5.689937     6.277583     6.975764      9.199684  \n",
       "Quantity_y           2.000000     3.000000     5.000000     14.000000  \n",
       "Discount             0.000000     3.000000     3.000000     10.000000  \n",
       "Profit_y           943.000000  1540.000000  2168.000000   2911.000000  \n",
       "Price_y              5.184000    13.632000    73.915000   1889.990000  \n",
       "Price_Ratio          6.012039    33.619975   125.713735  29446.428571  \n",
       "Profit_Margin        0.019969     0.028744     0.041851      0.086743  \n",
       "Customer_Segment     1.000000     2.000000     3.000000      3.000000  "
      ]
     },
     "execution_count": 131,
     "metadata": {},
     "output_type": "execute_result"
    }
   ],
   "source": [
    "df.describe().T"
   ]
  },
  {
   "cell_type": "code",
   "execution_count": 132,
   "id": "2686fa65-3397-4ce9-9577-af0aa8766e0f",
   "metadata": {},
   "outputs": [
    {
     "name": "stdout",
     "output_type": "stream",
     "text": [
      "Correlation Matrix (Raw):\n",
      "                     Amount  Profit_x  Quantity_x  Category  Sub-Category  \\\n",
      "Amount            1.000000  0.728423    0.010023  0.020017     -0.044436   \n",
      "Profit_x          0.728423  1.000000    0.005145  0.009910     -0.018482   \n",
      "Quantity_x        0.010023  0.005145    1.000000 -0.099833      0.001253   \n",
      "Category          0.020017  0.009910   -0.099833  1.000000     -0.261533   \n",
      "Sub-Category     -0.044436 -0.018482    0.001253 -0.261533      1.000000   \n",
      "PaymentMode       0.020162 -0.001665    0.010488  0.002006      0.057871   \n",
      "State            -0.021497 -0.057713   -0.093251 -0.057475     -0.036726   \n",
      "City              0.112712  0.087432    0.032477  0.018398     -0.034309   \n",
      "Order Year       -0.022995 -0.046184   -0.072966  0.043333      0.002554   \n",
      "Price_x           0.360808  0.204876   -0.561920  0.064303     -0.079179   \n",
      "log_Quantity      0.020144  0.038804    0.927282 -0.087382      0.016055   \n",
      "log_Price         0.613433  0.440340   -0.703200  0.081651     -0.059376   \n",
      "Quantity_y        0.001491 -0.000089    0.000368 -0.000102     -0.018405   \n",
      "Discount          0.025959 -0.001601    0.014299 -0.041652     -0.385060   \n",
      "Profit_y         -0.008095  0.006205   -0.021008  0.154086      0.103301   \n",
      "Price_y          -0.004914 -0.006304    0.050299 -0.500874      0.094241   \n",
      "Price_Ratio       0.152604  0.076824   -0.252854  0.178228     -0.196550   \n",
      "Profit_Margin    -0.301016  0.303088   -0.000127 -0.030050      0.037068   \n",
      "Customer_Segment  0.164863 -0.074556    0.031279 -0.014024      0.069356   \n",
      "\n",
      "                  PaymentMode     State      City  Order Year   Price_x  \\\n",
      "Amount               0.020162 -0.021497  0.112712   -0.022995  0.360808   \n",
      "Profit_x            -0.001665 -0.057713  0.087432   -0.046184  0.204876   \n",
      "Quantity_x           0.010488 -0.093251  0.032477   -0.072966 -0.561920   \n",
      "Category             0.002006 -0.057475  0.018398    0.043333  0.064303   \n",
      "Sub-Category         0.057871 -0.036726 -0.034309    0.002554 -0.079179   \n",
      "PaymentMode          1.000000  0.015834 -0.076545   -0.046345 -0.098391   \n",
      "State                0.015834  1.000000 -0.602932    0.016092 -0.046541   \n",
      "City                -0.076545 -0.602932  1.000000    0.039381  0.110713   \n",
      "Order Year          -0.046345  0.016092  0.039381    1.000000  0.021692   \n",
      "Price_x             -0.098391 -0.046541  0.110713    0.021692  1.000000   \n",
      "log_Quantity         0.034608 -0.049374  0.005213   -0.065512 -0.723078   \n",
      "log_Price           -0.015146  0.013962  0.073944    0.026644  0.761161   \n",
      "Quantity_y          -0.001818  0.002332 -0.001024   -0.000309  0.001773   \n",
      "Discount            -0.036164  0.045555 -0.015778   -0.008602  0.029117   \n",
      "Profit_y             0.017639 -0.031365  0.018932    0.009927  0.000931   \n",
      "Price_y             -0.006572  0.037263 -0.015964   -0.022392 -0.027000   \n",
      "Price_Ratio         -0.077850 -0.002642  0.044577    0.005199  0.475579   \n",
      "Profit_Margin       -0.039164 -0.089194  0.022011   -0.058377 -0.154813   \n",
      "Customer_Segment     0.608448  0.404713 -0.409043    0.007359 -0.021727   \n",
      "\n",
      "                  log_Quantity  log_Price  Quantity_y  Discount  Profit_y  \\\n",
      "Amount                0.020144   0.613433    0.001491  0.025959 -0.008095   \n",
      "Profit_x              0.038804   0.440340   -0.000089 -0.001601  0.006205   \n",
      "Quantity_x            0.927282  -0.703200    0.000368  0.014299 -0.021008   \n",
      "Category             -0.087382   0.081651   -0.000102 -0.041652  0.154086   \n",
      "Sub-Category          0.016055  -0.059376   -0.018405 -0.385060  0.103301   \n",
      "PaymentMode           0.034608  -0.015146   -0.001818 -0.036164  0.017639   \n",
      "State                -0.049374   0.013962    0.002332  0.045555 -0.031365   \n",
      "City                  0.005213   0.073944   -0.001024 -0.015778  0.018932   \n",
      "Order Year           -0.065512   0.026644   -0.000309 -0.008602  0.009927   \n",
      "Price_x              -0.723078   0.761161    0.001773  0.029117  0.000931   \n",
      "log_Quantity          1.000000  -0.741023    0.000173  0.010000 -0.020453   \n",
      "log_Price            -0.741023   1.000000    0.001399  0.020605  0.004679   \n",
      "Quantity_y            0.000173   0.001399    1.000000  0.022183  0.169886   \n",
      "Discount              0.010000   0.020605    0.022183  1.000000 -0.664976   \n",
      "Profit_y             -0.020453   0.004679    0.169886 -0.664976  1.000000   \n",
      "Price_y               0.044141  -0.036118   -0.006770 -0.058226  0.164850   \n",
      "Price_Ratio          -0.335258   0.345358    0.010473  0.239345 -0.123431   \n",
      "Profit_Margin         0.019573  -0.217449   -0.001682 -0.030130  0.014055   \n",
      "Customer_Segment      0.050862   0.061587   -0.000989 -0.022800  0.005440   \n",
      "\n",
      "                   Price_y  Price_Ratio  Profit_Margin  Customer_Segment  \n",
      "Amount           -0.004914     0.152604      -0.301016          0.164863  \n",
      "Profit_x         -0.006304     0.076824       0.303088         -0.074556  \n",
      "Quantity_x        0.050299    -0.252854      -0.000127          0.031279  \n",
      "Category         -0.500874     0.178228      -0.030050         -0.014024  \n",
      "Sub-Category      0.094241    -0.196550       0.037068          0.069356  \n",
      "PaymentMode      -0.006572    -0.077850      -0.039164          0.608448  \n",
      "State             0.037263    -0.002642      -0.089194          0.404713  \n",
      "City             -0.015964     0.044577       0.022011         -0.409043  \n",
      "Order Year       -0.022392     0.005199      -0.058377          0.007359  \n",
      "Price_x          -0.027000     0.475579      -0.154813         -0.021727  \n",
      "log_Quantity      0.044141    -0.335258       0.019573          0.050862  \n",
      "log_Price        -0.036118     0.345358      -0.217449          0.061587  \n",
      "Quantity_y       -0.006770     0.010473      -0.001682         -0.000989  \n",
      "Discount         -0.058226     0.239345      -0.030130         -0.022800  \n",
      "Profit_y          0.164850    -0.123431       0.014055          0.005440  \n",
      "Price_y           1.000000    -0.142080       0.008443          0.005968  \n",
      "Price_Ratio      -0.142080     1.000000      -0.070594         -0.029854  \n",
      "Profit_Margin     0.008443    -0.070594       1.000000         -0.436777  \n",
      "Customer_Segment  0.005968    -0.029854      -0.436777          1.000000  \n"
     ]
    }
   ],
   "source": [
    "numerical_df = df.select_dtypes(include=np.number)\n",
    "\n",
    "# Calculate the correlation matrix\n",
    "correlation_matrix = numerical_df.corr()\n",
    "\n",
    "# Print the correlation matrix\n",
    "print(\"Correlation Matrix (Raw):\\n\", correlation_matrix)\n",
    "\n"
   ]
  },
  {
   "cell_type": "code",
   "execution_count": 133,
   "id": "eb4c42a3-c446-417c-a2f0-299c17d58492",
   "metadata": {},
   "outputs": [
    {
     "data": {
      "text/plain": [
       "array([4., 2., 6., 4., 6., 9., 4., 8., 1., 9.])"
      ]
     },
     "execution_count": 133,
     "metadata": {},
     "output_type": "execute_result"
    }
   ],
   "source": [
    "y_pred[:10]"
   ]
  },
  {
   "cell_type": "code",
   "execution_count": 134,
   "id": "505e9201-d38d-4fa1-936a-ddcf559953c2",
   "metadata": {},
   "outputs": [
    {
     "data": {
      "text/plain": [
       "array([4, 2, 6, 4, 6, 9, 4, 8, 1, 9])"
      ]
     },
     "execution_count": 134,
     "metadata": {},
     "output_type": "execute_result"
    }
   ],
   "source": [
    "y_test[:10].values"
   ]
  },
  {
   "cell_type": "code",
   "execution_count": 135,
   "id": "ada8c1c5",
   "metadata": {},
   "outputs": [],
   "source": [
    "from sklearn.metrics import r2_score, mean_squared_error, mean_absolute_error, root_mean_squared_error\n"
   ]
  },
  {
   "cell_type": "code",
   "execution_count": 136,
   "id": "54cee76b-7e5e-45fe-a9f0-ce834aa114e2",
   "metadata": {},
   "outputs": [
    {
     "name": "stdout",
     "output_type": "stream",
     "text": [
      "--- Model Evaluation ---\n",
      "\n",
      "R-squared (R2 Score): 1.0000\n",
      "\n",
      "Mean Squared Error (MSE): 0.00\n",
      "\n",
      "Root Mean Squared Error (RMSE): 0.01\n",
      "\n",
      "Mean Absolute Error (MAE): 0.00\n"
     ]
    }
   ],
   "source": [
    "print(\"--- Model Evaluation ---\")\n",
    "\n",
    "# Calculate evaluation metrics\n",
    "r2 = r2_score(y_test, y_pred)\n",
    "print(f\"\\nR-squared (R2 Score): {r2:.4f}\")\n",
    "\n",
    "mse = mean_squared_error(y_test, y_pred)\n",
    "print(f\"\\nMean Squared Error (MSE): {mse:.2f}\")\n",
    "\n",
    "rmse = root_mean_squared_error(y_test, y_pred)\n",
    "print(f\"\\nRoot Mean Squared Error (RMSE): {rmse:.2f}\")\n",
    "\n",
    "mae = mean_absolute_error(y_test, y_pred)\n",
    "print(f\"\\nMean Absolute Error (MAE): {mae:.2f}\")"
   ]
  },
  {
   "cell_type": "markdown",
   "id": "836c95b7-9df5-4ba3-bf34-7becf99575c4",
   "metadata": {},
   "source": [
    "### Predicted vs. Actual Values Scatter Plot"
   ]
  },
  {
   "cell_type": "code",
   "execution_count": 137,
   "id": "17772354",
   "metadata": {},
   "outputs": [
    {
     "data": {
      "image/png": "[encoded data removed]",
      "text/plain": [
       "<Figure size 800x600 with 1 Axes>"
      ]
     },
     "metadata": {},
     "output_type": "display_data"
    }
   ],
   "source": [
    "residuals = y_test - y_pred\n",
    "\n",
    "\n",
    "plt.figure(figsize=(8, 6))\n",
    "sns.scatterplot(x=y_test, y=y_pred, alpha=0.7)\n",
    "plt.plot([min(y_test), max(y_test)], [min(y_test), max(y_test)], color='red', linestyle='--', lw=2, label='Ideal Prediction (y=x)')\n",
    "plt.title('Predicted vs. Actual Values')\n",
    "plt.xlabel('Actual Values (y_test)')\n",
    "plt.ylabel('Predicted Values (y_pred)')\n",
    "plt.grid(True, linestyle=':', alpha=0.6)\n",
    "plt.legend()\n",
    "plt.show()\n"
   ]
  },
  {
   "cell_type": "code",
   "execution_count": 138,
   "id": "251287be",
   "metadata": {},
   "outputs": [
    {
     "data": {
      "text/plain": [
       "['elasticity_model.pkl']"
      ]
     },
     "execution_count": 138,
     "metadata": {},
     "output_type": "execute_result"
    }
   ],
   "source": [
    "import joblib\n",
    "\n",
    "joblib.dump(model, 'model.pkl')\n",
    "joblib.dump(scaler, 'scaler.pkl')\n",
    "joblib.dump(label_encoders, 'encoders.pkl')\n",
    "joblib.dump(elasticity_model, 'elasticity_model.pkl')\n"
   ]
  },
  {
   "cell_type": "markdown",
   "id": "08100ec0",
   "metadata": {},
   "source": [
    "relationship between log(Price) and log(Quantity) colored by customer segment."
   ]
  },
  {
   "cell_type": "code",
   "execution_count": 139,
   "id": "f80ec1ea",
   "metadata": {},
   "outputs": [
    {
     "data": {
      "image/png": "[encoded data removed]",
      "text/plain": [
       "<Figure size 800x600 with 1 Axes>"
      ]
     },
     "metadata": {},
     "output_type": "display_data"
    }
   ],
   "source": [
    "# Plot the relationship between log(Price) and log(Quantity) colored by customer segment.\n",
    "plt.figure(figsize=(8, 6))\n",
    "sns.scatterplot(data=df, x='log_Price', y='log_Quantity', hue='Customer_Segment', palette='viridis')\n",
    "plt.title(\"Demand Elasticity Across Customer Segments\")\n",
    "plt.xlabel(\"Log(Price)\")\n",
    "plt.ylabel(\"Log(Quantity)\")\n",
    "plt.show()"
   ]
  }
 ],
 "metadata": {
  "kernelspec": {
   "display_name": "Python 3",
   "language": "python",
   "name": "python3"
  },
  "language_info": {
   "codemirror_mode": {
    "name": "ipython",
    "version": 3
   },
   "file_extension": ".py",
   "mimetype": "text/x-python",
   "name": "python",
   "nbconvert_exporter": "python",
   "pygments_lexer": "ipython3",
   "version": "3.13.2"
  }
 },
 "nbformat": 4,
 "nbformat_minor": 5
}
