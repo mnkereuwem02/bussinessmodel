{
 "cells": [
  {
   "cell_type": "markdown",
   "id": "a69368c6",
   "metadata": {},
   "source": [
    "Business Analytics Model On a sales Dataset using the Random Forest Classifier"
   ]
  },
  {
   "cell_type": "code",
   "execution_count": 1,
   "id": "804e6df6",
   "metadata": {},
   "outputs": [],
   "source": [
    "# Import necessary libraries\n",
    "import pandas as pd\n",
    "import numpy as np\n",
    "from sklearn.model_selection import train_test_split\n",
    "from sklearn.preprocessing import LabelEncoder\n",
    "from sklearn.ensemble import RandomForestClassifier\n",
    "from sklearn.metrics import classification_report, confusion_matrix, roc_auc_score\n",
    "import seaborn as sns\n",
    "import matplotlib.pyplot as plt"
   ]
  },
  {
   "cell_type": "code",
   "execution_count": 2,
   "id": "2f6f5573",
   "metadata": {},
   "outputs": [],
   "source": [
    "df = pd.read_csv('sales_dataset.csv')"
   ]
  },
  {
   "cell_type": "code",
   "execution_count": 3,
   "id": "e697ef11",
   "metadata": {},
   "outputs": [
    {
     "name": "stdout",
     "output_type": "stream",
     "text": [
      "Order ID        0\n",
      "Amount          0\n",
      "Profit          0\n",
      "Quantity        0\n",
      "Category        0\n",
      "Sub-Category    0\n",
      "PaymentMode     0\n",
      "Order Date      0\n",
      "CustomerName    0\n",
      "State           0\n",
      "City            0\n",
      "Year-Month      0\n",
      "dtype: int64\n"
     ]
    }
   ],
   "source": [
    "print(df.isnull().sum()) #identifying missing values"
   ]
  },
  {
   "cell_type": "code",
   "execution_count": 4,
   "id": "67d06684-db95-4e78-8323-32e638d6d538",
   "metadata": {},
   "outputs": [
    {
     "name": "stdout",
     "output_type": "stream",
     "text": [
      "<class 'pandas.core.frame.DataFrame'>\n",
      "RangeIndex: 1194 entries, 0 to 1193\n",
      "Data columns (total 12 columns):\n",
      " #   Column        Non-Null Count  Dtype \n",
      "---  ------        --------------  ----- \n",
      " 0   Order ID      1194 non-null   object\n",
      " 1   Amount        1194 non-null   int64 \n",
      " 2   Profit        1194 non-null   int64 \n",
      " 3   Quantity      1194 non-null   int64 \n",
      " 4   Category      1194 non-null   object\n",
      " 5   Sub-Category  1194 non-null   object\n",
      " 6   PaymentMode   1194 non-null   object\n",
      " 7   Order Date    1194 non-null   object\n",
      " 8   CustomerName  1194 non-null   object\n",
      " 9   State         1194 non-null   object\n",
      " 10  City          1194 non-null   object\n",
      " 11  Year-Month    1194 non-null   object\n",
      "dtypes: int64(3), object(9)\n",
      "memory usage: 112.1+ KB\n"
     ]
    }
   ],
   "source": [
    "df.info()"
   ]
  },
  {
   "cell_type": "code",
   "execution_count": 5,
   "id": "a0bbc97a",
   "metadata": {},
   "outputs": [
    {
     "data": {
      "text/html": [
       "<div>\n",
       "<style scoped>\n",
       "    .dataframe tbody tr th:only-of-type {\n",
       "        vertical-align: middle;\n",
       "    }\n",
       "\n",
       "    .dataframe tbody tr th {\n",
       "        vertical-align: top;\n",
       "    }\n",
       "\n",
       "    .dataframe thead th {\n",
       "        text-align: right;\n",
       "    }\n",
       "</style>\n",
       "<table border=\"1\" class=\"dataframe\">\n",
       "  <thead>\n",
       "    <tr style=\"text-align: right;\">\n",
       "      <th></th>\n",
       "      <th>Order ID</th>\n",
       "      <th>Amount</th>\n",
       "      <th>Profit</th>\n",
       "      <th>Quantity</th>\n",
       "      <th>Category</th>\n",
       "      <th>Sub-Category</th>\n",
       "      <th>PaymentMode</th>\n",
       "      <th>Order Date</th>\n",
       "      <th>CustomerName</th>\n",
       "      <th>State</th>\n",
       "      <th>City</th>\n",
       "      <th>Year-Month</th>\n",
       "    </tr>\n",
       "  </thead>\n",
       "  <tbody>\n",
       "    <tr>\n",
       "      <th>0</th>\n",
       "      <td>B-26776</td>\n",
       "      <td>9726</td>\n",
       "      <td>1275</td>\n",
       "      <td>5</td>\n",
       "      <td>Electronics</td>\n",
       "      <td>Electronic Games</td>\n",
       "      <td>UPI</td>\n",
       "      <td>6/27/2023</td>\n",
       "      <td>David Padilla</td>\n",
       "      <td>Florida</td>\n",
       "      <td>Miami</td>\n",
       "      <td>2023-06</td>\n",
       "    </tr>\n",
       "    <tr>\n",
       "      <th>1</th>\n",
       "      <td>B-26776</td>\n",
       "      <td>9726</td>\n",
       "      <td>1275</td>\n",
       "      <td>5</td>\n",
       "      <td>Electronics</td>\n",
       "      <td>Electronic Games</td>\n",
       "      <td>UPI</td>\n",
       "      <td>12/27/2024</td>\n",
       "      <td>Connor Morgan</td>\n",
       "      <td>Illinois</td>\n",
       "      <td>Chicago</td>\n",
       "      <td>2024-12</td>\n",
       "    </tr>\n",
       "    <tr>\n",
       "      <th>2</th>\n",
       "      <td>B-26776</td>\n",
       "      <td>9726</td>\n",
       "      <td>1275</td>\n",
       "      <td>5</td>\n",
       "      <td>Electronics</td>\n",
       "      <td>Electronic Games</td>\n",
       "      <td>UPI</td>\n",
       "      <td>7/25/2021</td>\n",
       "      <td>Robert Stone</td>\n",
       "      <td>New York</td>\n",
       "      <td>Buffalo</td>\n",
       "      <td>2021-07</td>\n",
       "    </tr>\n",
       "    <tr>\n",
       "      <th>3</th>\n",
       "      <td>B-26776</td>\n",
       "      <td>4975</td>\n",
       "      <td>1330</td>\n",
       "      <td>14</td>\n",
       "      <td>Electronics</td>\n",
       "      <td>Printers</td>\n",
       "      <td>UPI</td>\n",
       "      <td>6/27/2023</td>\n",
       "      <td>David Padilla</td>\n",
       "      <td>Florida</td>\n",
       "      <td>Miami</td>\n",
       "      <td>2023-06</td>\n",
       "    </tr>\n",
       "    <tr>\n",
       "      <th>4</th>\n",
       "      <td>B-26776</td>\n",
       "      <td>4975</td>\n",
       "      <td>1330</td>\n",
       "      <td>14</td>\n",
       "      <td>Electronics</td>\n",
       "      <td>Printers</td>\n",
       "      <td>UPI</td>\n",
       "      <td>12/27/2024</td>\n",
       "      <td>Connor Morgan</td>\n",
       "      <td>Illinois</td>\n",
       "      <td>Chicago</td>\n",
       "      <td>2024-12</td>\n",
       "    </tr>\n",
       "  </tbody>\n",
       "</table>\n",
       "</div>"
      ],
      "text/plain": [
       "  Order ID  Amount  Profit  Quantity     Category      Sub-Category  \\\n",
       "0  B-26776    9726    1275         5  Electronics  Electronic Games   \n",
       "1  B-26776    9726    1275         5  Electronics  Electronic Games   \n",
       "2  B-26776    9726    1275         5  Electronics  Electronic Games   \n",
       "3  B-26776    4975    1330        14  Electronics          Printers   \n",
       "4  B-26776    4975    1330        14  Electronics          Printers   \n",
       "\n",
       "  PaymentMode  Order Date   CustomerName     State     City Year-Month  \n",
       "0         UPI   6/27/2023  David Padilla   Florida    Miami    2023-06  \n",
       "1         UPI  12/27/2024  Connor Morgan  Illinois  Chicago    2024-12  \n",
       "2         UPI   7/25/2021   Robert Stone  New York  Buffalo    2021-07  \n",
       "3         UPI   6/27/2023  David Padilla   Florida    Miami    2023-06  \n",
       "4         UPI  12/27/2024  Connor Morgan  Illinois  Chicago    2024-12  "
      ]
     },
     "execution_count": 5,
     "metadata": {},
     "output_type": "execute_result"
    }
   ],
   "source": [
    "df. head(5)"
   ]
  },
  {
   "cell_type": "code",
   "execution_count": 6,
   "id": "84163b86-26cc-45b8-9264-2eed2b575b95",
   "metadata": {},
   "outputs": [
    {
     "data": {
      "text/plain": [
       "array(['Electronics', 'Office Supplies', 'Furniture'], dtype=object)"
      ]
     },
     "execution_count": 6,
     "metadata": {},
     "output_type": "execute_result"
    }
   ],
   "source": [
    "df.Category.unique()"
   ]
  },
  {
   "cell_type": "code",
   "execution_count": 7,
   "id": "b827f7d6-e841-4838-9c5e-ce8a1e950bb7",
   "metadata": {},
   "outputs": [
    {
     "data": {
      "text/plain": [
       "array(['Electronic Games', 'Printers', 'Pens', 'Laptops', 'Tables',\n",
       "       'Chairs', 'Markers', 'Sofas', 'Paper', 'Binders', 'Phones',\n",
       "       'Bookcases'], dtype=object)"
      ]
     },
     "execution_count": 7,
     "metadata": {},
     "output_type": "execute_result"
    }
   ],
   "source": [
    "df[\"Sub-Category\"].unique()"
   ]
  },
  {
   "cell_type": "code",
   "execution_count": 8,
   "id": "f1594261-9f49-4fed-897b-188e9816425d",
   "metadata": {},
   "outputs": [
    {
     "data": {
      "text/plain": [
       "array(['UPI', 'Debit Card', 'EMI', 'Credit Card', 'COD'], dtype=object)"
      ]
     },
     "execution_count": 8,
     "metadata": {},
     "output_type": "execute_result"
    }
   ],
   "source": [
    "df.PaymentMode.unique()"
   ]
  },
  {
   "cell_type": "code",
   "execution_count": 9,
   "id": "299a9b14-578e-4a89-9653-db47fb7067e9",
   "metadata": {},
   "outputs": [
    {
     "data": {
      "text/plain": [
       "array(['Florida', 'Illinois', 'New York', 'California', 'Texas', 'Ohio'],\n",
       "      dtype=object)"
      ]
     },
     "execution_count": 9,
     "metadata": {},
     "output_type": "execute_result"
    }
   ],
   "source": [
    "df.State.unique()"
   ]
  },
  {
   "cell_type": "code",
   "execution_count": 10,
   "id": "ac9a4b97-46b7-4572-be51-3dea449bde79",
   "metadata": {},
   "outputs": [
    {
     "data": {
      "text/plain": [
       "array(['Miami', 'Chicago', 'Buffalo', 'Orlando', 'Los Angeles',\n",
       "       'New York City', 'Springfield', 'Rochester', 'Dallas', 'San Diego',\n",
       "       'Austin', 'San Francisco', 'Columbus', 'Cincinnati', 'Cleveland',\n",
       "       'Houston', 'Tampa', 'Peoria'], dtype=object)"
      ]
     },
     "execution_count": 10,
     "metadata": {},
     "output_type": "execute_result"
    }
   ],
   "source": [
    "df.City.unique()"
   ]
  },
  {
   "cell_type": "code",
   "execution_count": 11,
   "id": "11fa34aa-021c-449b-ad3b-70660f97c655",
   "metadata": {},
   "outputs": [],
   "source": [
    "df['Order Date'] = pd.to_datetime(df['Order Date'])\n",
    "\n",
    "# Step 2: Extract Day, Month, and Year into new columns\n",
    "# df['Order Day'] = df['Order Date'].dt.day\n",
    "df['Order Month'] = df['Order Date'].dt.month\n",
    "df['Order Year'] = df['Order Date'].dt.year"
   ]
  },
  {
   "cell_type": "code",
   "execution_count": 12,
   "id": "2cc44330-a218-4138-8671-0398de1ebf10",
   "metadata": {},
   "outputs": [],
   "source": [
    "df = df.drop([\"Order Date\", \"Year-Month\", \"Order ID\", \"CustomerName\"], axis=1)"
   ]
  },
  {
   "cell_type": "code",
   "execution_count": 13,
   "id": "cd205c97-d47b-4114-b74a-2f6c2fc36a3f",
   "metadata": {},
   "outputs": [
    {
     "data": {
      "text/html": [
       "<div>\n",
       "<style scoped>\n",
       "    .dataframe tbody tr th:only-of-type {\n",
       "        vertical-align: middle;\n",
       "    }\n",
       "\n",
       "    .dataframe tbody tr th {\n",
       "        vertical-align: top;\n",
       "    }\n",
       "\n",
       "    .dataframe thead th {\n",
       "        text-align: right;\n",
       "    }\n",
       "</style>\n",
       "<table border=\"1\" class=\"dataframe\">\n",
       "  <thead>\n",
       "    <tr style=\"text-align: right;\">\n",
       "      <th></th>\n",
       "      <th>Amount</th>\n",
       "      <th>Profit</th>\n",
       "      <th>Quantity</th>\n",
       "      <th>Category</th>\n",
       "      <th>Sub-Category</th>\n",
       "      <th>PaymentMode</th>\n",
       "      <th>State</th>\n",
       "      <th>City</th>\n",
       "      <th>Order Month</th>\n",
       "      <th>Order Year</th>\n",
       "    </tr>\n",
       "  </thead>\n",
       "  <tbody>\n",
       "    <tr>\n",
       "      <th>0</th>\n",
       "      <td>9726</td>\n",
       "      <td>1275</td>\n",
       "      <td>5</td>\n",
       "      <td>Electronics</td>\n",
       "      <td>Electronic Games</td>\n",
       "      <td>UPI</td>\n",
       "      <td>Florida</td>\n",
       "      <td>Miami</td>\n",
       "      <td>6</td>\n",
       "      <td>2023</td>\n",
       "    </tr>\n",
       "    <tr>\n",
       "      <th>1</th>\n",
       "      <td>9726</td>\n",
       "      <td>1275</td>\n",
       "      <td>5</td>\n",
       "      <td>Electronics</td>\n",
       "      <td>Electronic Games</td>\n",
       "      <td>UPI</td>\n",
       "      <td>Illinois</td>\n",
       "      <td>Chicago</td>\n",
       "      <td>12</td>\n",
       "      <td>2024</td>\n",
       "    </tr>\n",
       "    <tr>\n",
       "      <th>2</th>\n",
       "      <td>9726</td>\n",
       "      <td>1275</td>\n",
       "      <td>5</td>\n",
       "      <td>Electronics</td>\n",
       "      <td>Electronic Games</td>\n",
       "      <td>UPI</td>\n",
       "      <td>New York</td>\n",
       "      <td>Buffalo</td>\n",
       "      <td>7</td>\n",
       "      <td>2021</td>\n",
       "    </tr>\n",
       "    <tr>\n",
       "      <th>3</th>\n",
       "      <td>4975</td>\n",
       "      <td>1330</td>\n",
       "      <td>14</td>\n",
       "      <td>Electronics</td>\n",
       "      <td>Printers</td>\n",
       "      <td>UPI</td>\n",
       "      <td>Florida</td>\n",
       "      <td>Miami</td>\n",
       "      <td>6</td>\n",
       "      <td>2023</td>\n",
       "    </tr>\n",
       "    <tr>\n",
       "      <th>4</th>\n",
       "      <td>4975</td>\n",
       "      <td>1330</td>\n",
       "      <td>14</td>\n",
       "      <td>Electronics</td>\n",
       "      <td>Printers</td>\n",
       "      <td>UPI</td>\n",
       "      <td>Illinois</td>\n",
       "      <td>Chicago</td>\n",
       "      <td>12</td>\n",
       "      <td>2024</td>\n",
       "    </tr>\n",
       "  </tbody>\n",
       "</table>\n",
       "</div>"
      ],
      "text/plain": [
       "   Amount  Profit  Quantity     Category      Sub-Category PaymentMode  \\\n",
       "0    9726    1275         5  Electronics  Electronic Games         UPI   \n",
       "1    9726    1275         5  Electronics  Electronic Games         UPI   \n",
       "2    9726    1275         5  Electronics  Electronic Games         UPI   \n",
       "3    4975    1330        14  Electronics          Printers         UPI   \n",
       "4    4975    1330        14  Electronics          Printers         UPI   \n",
       "\n",
       "      State     City  Order Month  Order Year  \n",
       "0   Florida    Miami            6        2023  \n",
       "1  Illinois  Chicago           12        2024  \n",
       "2  New York  Buffalo            7        2021  \n",
       "3   Florida    Miami            6        2023  \n",
       "4  Illinois  Chicago           12        2024  "
      ]
     },
     "execution_count": 13,
     "metadata": {},
     "output_type": "execute_result"
    }
   ],
   "source": [
    "df.head()"
   ]
  },
  {
   "cell_type": "code",
   "execution_count": 14,
   "id": "2c492662-2886-4215-a4aa-9a25edfe9c96",
   "metadata": {},
   "outputs": [],
   "source": [
    "from sklearn.preprocessing import LabelEncoder\n",
    "\n",
    "categorical_cols = ['Category', 'Sub-Category', 'PaymentMode', 'State', 'City']\n",
    "label_encoders = {}\n",
    "\n",
    "for col in categorical_cols:\n",
    "    le = LabelEncoder()\n",
    "    df[col] = le.fit_transform(df[col])\n",
    "    label_encoders[col] = le"
   ]
  },
  {
   "cell_type": "code",
   "execution_count": 15,
   "id": "4618066f-8c20-4de9-b40d-09f3fa4fa9f1",
   "metadata": {},
   "outputs": [
    {
     "data": {
      "text/html": [
       "<div>\n",
       "<style scoped>\n",
       "    .dataframe tbody tr th:only-of-type {\n",
       "        vertical-align: middle;\n",
       "    }\n",
       "\n",
       "    .dataframe tbody tr th {\n",
       "        vertical-align: top;\n",
       "    }\n",
       "\n",
       "    .dataframe thead th {\n",
       "        text-align: right;\n",
       "    }\n",
       "</style>\n",
       "<table border=\"1\" class=\"dataframe\">\n",
       "  <thead>\n",
       "    <tr style=\"text-align: right;\">\n",
       "      <th></th>\n",
       "      <th>Amount</th>\n",
       "      <th>Profit</th>\n",
       "      <th>Quantity</th>\n",
       "      <th>Category</th>\n",
       "      <th>Sub-Category</th>\n",
       "      <th>PaymentMode</th>\n",
       "      <th>State</th>\n",
       "      <th>City</th>\n",
       "      <th>Order Month</th>\n",
       "      <th>Order Year</th>\n",
       "    </tr>\n",
       "  </thead>\n",
       "  <tbody>\n",
       "    <tr>\n",
       "      <th>0</th>\n",
       "      <td>9726</td>\n",
       "      <td>1275</td>\n",
       "      <td>5</td>\n",
       "      <td>0</td>\n",
       "      <td>3</td>\n",
       "      <td>4</td>\n",
       "      <td>1</td>\n",
       "      <td>9</td>\n",
       "      <td>6</td>\n",
       "      <td>2023</td>\n",
       "    </tr>\n",
       "    <tr>\n",
       "      <th>1</th>\n",
       "      <td>9726</td>\n",
       "      <td>1275</td>\n",
       "      <td>5</td>\n",
       "      <td>0</td>\n",
       "      <td>3</td>\n",
       "      <td>4</td>\n",
       "      <td>2</td>\n",
       "      <td>2</td>\n",
       "      <td>12</td>\n",
       "      <td>2024</td>\n",
       "    </tr>\n",
       "    <tr>\n",
       "      <th>2</th>\n",
       "      <td>9726</td>\n",
       "      <td>1275</td>\n",
       "      <td>5</td>\n",
       "      <td>0</td>\n",
       "      <td>3</td>\n",
       "      <td>4</td>\n",
       "      <td>3</td>\n",
       "      <td>1</td>\n",
       "      <td>7</td>\n",
       "      <td>2021</td>\n",
       "    </tr>\n",
       "    <tr>\n",
       "      <th>3</th>\n",
       "      <td>4975</td>\n",
       "      <td>1330</td>\n",
       "      <td>14</td>\n",
       "      <td>0</td>\n",
       "      <td>9</td>\n",
       "      <td>4</td>\n",
       "      <td>1</td>\n",
       "      <td>9</td>\n",
       "      <td>6</td>\n",
       "      <td>2023</td>\n",
       "    </tr>\n",
       "    <tr>\n",
       "      <th>4</th>\n",
       "      <td>4975</td>\n",
       "      <td>1330</td>\n",
       "      <td>14</td>\n",
       "      <td>0</td>\n",
       "      <td>9</td>\n",
       "      <td>4</td>\n",
       "      <td>2</td>\n",
       "      <td>2</td>\n",
       "      <td>12</td>\n",
       "      <td>2024</td>\n",
       "    </tr>\n",
       "  </tbody>\n",
       "</table>\n",
       "</div>"
      ],
      "text/plain": [
       "   Amount  Profit  Quantity  Category  Sub-Category  PaymentMode  State  City  \\\n",
       "0    9726    1275         5         0             3            4      1     9   \n",
       "1    9726    1275         5         0             3            4      2     2   \n",
       "2    9726    1275         5         0             3            4      3     1   \n",
       "3    4975    1330        14         0             9            4      1     9   \n",
       "4    4975    1330        14         0             9            4      2     2   \n",
       "\n",
       "   Order Month  Order Year  \n",
       "0            6        2023  \n",
       "1           12        2024  \n",
       "2            7        2021  \n",
       "3            6        2023  \n",
       "4           12        2024  "
      ]
     },
     "execution_count": 15,
     "metadata": {},
     "output_type": "execute_result"
    }
   ],
   "source": [
    "df.head()"
   ]
  },
  {
   "cell_type": "code",
   "execution_count": 16,
   "id": "aabff650",
   "metadata": {},
   "outputs": [
    {
     "data": {
      "text/html": [
       "<div>\n",
       "<style scoped>\n",
       "    .dataframe tbody tr th:only-of-type {\n",
       "        vertical-align: middle;\n",
       "    }\n",
       "\n",
       "    .dataframe tbody tr th {\n",
       "        vertical-align: top;\n",
       "    }\n",
       "\n",
       "    .dataframe thead th {\n",
       "        text-align: right;\n",
       "    }\n",
       "</style>\n",
       "<table border=\"1\" class=\"dataframe\">\n",
       "  <thead>\n",
       "    <tr style=\"text-align: right;\">\n",
       "      <th></th>\n",
       "      <th>Amount</th>\n",
       "      <th>Profit</th>\n",
       "      <th>Quantity</th>\n",
       "      <th>Category</th>\n",
       "      <th>Sub-Category</th>\n",
       "      <th>PaymentMode</th>\n",
       "      <th>State</th>\n",
       "      <th>City</th>\n",
       "      <th>Order Month</th>\n",
       "      <th>Order Year</th>\n",
       "    </tr>\n",
       "  </thead>\n",
       "  <tbody>\n",
       "    <tr>\n",
       "      <th>1189</th>\n",
       "      <td>8825</td>\n",
       "      <td>3594</td>\n",
       "      <td>15</td>\n",
       "      <td>1</td>\n",
       "      <td>11</td>\n",
       "      <td>2</td>\n",
       "      <td>3</td>\n",
       "      <td>10</td>\n",
       "      <td>7</td>\n",
       "      <td>2024</td>\n",
       "    </tr>\n",
       "    <tr>\n",
       "      <th>1190</th>\n",
       "      <td>2082</td>\n",
       "      <td>642</td>\n",
       "      <td>8</td>\n",
       "      <td>0</td>\n",
       "      <td>8</td>\n",
       "      <td>3</td>\n",
       "      <td>3</td>\n",
       "      <td>13</td>\n",
       "      <td>6</td>\n",
       "      <td>2020</td>\n",
       "    </tr>\n",
       "    <tr>\n",
       "      <th>1191</th>\n",
       "      <td>2082</td>\n",
       "      <td>642</td>\n",
       "      <td>8</td>\n",
       "      <td>0</td>\n",
       "      <td>8</td>\n",
       "      <td>3</td>\n",
       "      <td>5</td>\n",
       "      <td>0</td>\n",
       "      <td>12</td>\n",
       "      <td>2022</td>\n",
       "    </tr>\n",
       "    <tr>\n",
       "      <th>1192</th>\n",
       "      <td>2082</td>\n",
       "      <td>642</td>\n",
       "      <td>8</td>\n",
       "      <td>0</td>\n",
       "      <td>8</td>\n",
       "      <td>3</td>\n",
       "      <td>3</td>\n",
       "      <td>1</td>\n",
       "      <td>8</td>\n",
       "      <td>2020</td>\n",
       "    </tr>\n",
       "    <tr>\n",
       "      <th>1193</th>\n",
       "      <td>914</td>\n",
       "      <td>163</td>\n",
       "      <td>13</td>\n",
       "      <td>2</td>\n",
       "      <td>5</td>\n",
       "      <td>4</td>\n",
       "      <td>2</td>\n",
       "      <td>2</td>\n",
       "      <td>10</td>\n",
       "      <td>2024</td>\n",
       "    </tr>\n",
       "  </tbody>\n",
       "</table>\n",
       "</div>"
      ],
      "text/plain": [
       "      Amount  Profit  Quantity  Category  Sub-Category  PaymentMode  State  \\\n",
       "1189    8825    3594        15         1            11            2      3   \n",
       "1190    2082     642         8         0             8            3      3   \n",
       "1191    2082     642         8         0             8            3      5   \n",
       "1192    2082     642         8         0             8            3      3   \n",
       "1193     914     163        13         2             5            4      2   \n",
       "\n",
       "      City  Order Month  Order Year  \n",
       "1189    10            7        2024  \n",
       "1190    13            6        2020  \n",
       "1191     0           12        2022  \n",
       "1192     1            8        2020  \n",
       "1193     2           10        2024  "
      ]
     },
     "execution_count": 16,
     "metadata": {},
     "output_type": "execute_result"
    }
   ],
   "source": [
    "df.tail(5)"
   ]
  },
  {
   "cell_type": "code",
   "execution_count": 17,
   "id": "33366dca-5183-4999-b22f-09d9de2964d3",
   "metadata": {},
   "outputs": [
    {
     "data": {
      "text/plain": [
       "Amount          0\n",
       "Profit          0\n",
       "Quantity        0\n",
       "Category        0\n",
       "Sub-Category    0\n",
       "PaymentMode     0\n",
       "State           0\n",
       "City            0\n",
       "Order Month     0\n",
       "Order Year      0\n",
       "dtype: int64"
      ]
     },
     "execution_count": 17,
     "metadata": {},
     "output_type": "execute_result"
    }
   ],
   "source": [
    "df.isnull().sum()"
   ]
  },
  {
   "cell_type": "markdown",
   "id": "5690f693",
   "metadata": {},
   "source": [
    "DATA PREPARATION STEPS\n"
   ]
  },
  {
   "cell_type": "code",
   "execution_count": 18,
   "id": "d9b0191d",
   "metadata": {},
   "outputs": [
    {
     "name": "stdout",
     "output_type": "stream",
     "text": [
      "<class 'pandas.core.frame.DataFrame'>\n",
      "RangeIndex: 1194 entries, 0 to 1193\n",
      "Data columns (total 10 columns):\n",
      " #   Column        Non-Null Count  Dtype\n",
      "---  ------        --------------  -----\n",
      " 0   Amount        1194 non-null   int64\n",
      " 1   Profit        1194 non-null   int64\n",
      " 2   Quantity      1194 non-null   int64\n",
      " 3   Category      1194 non-null   int64\n",
      " 4   Sub-Category  1194 non-null   int64\n",
      " 5   PaymentMode   1194 non-null   int64\n",
      " 6   State         1194 non-null   int64\n",
      " 7   City          1194 non-null   int64\n",
      " 8   Order Month   1194 non-null   int32\n",
      " 9   Order Year    1194 non-null   int32\n",
      "dtypes: int32(2), int64(8)\n",
      "memory usage: 84.1 KB\n"
     ]
    }
   ],
   "source": [
    "df.info()"
   ]
  },
  {
   "cell_type": "code",
   "execution_count": 19,
   "id": "2dc7f835-7c61-4ffc-bf65-7e075e56e489",
   "metadata": {},
   "outputs": [
    {
     "data": {
      "text/html": [
       "<div>\n",
       "<style scoped>\n",
       "    .dataframe tbody tr th:only-of-type {\n",
       "        vertical-align: middle;\n",
       "    }\n",
       "\n",
       "    .dataframe tbody tr th {\n",
       "        vertical-align: top;\n",
       "    }\n",
       "\n",
       "    .dataframe thead th {\n",
       "        text-align: right;\n",
       "    }\n",
       "</style>\n",
       "<table border=\"1\" class=\"dataframe\">\n",
       "  <thead>\n",
       "    <tr style=\"text-align: right;\">\n",
       "      <th></th>\n",
       "      <th>count</th>\n",
       "      <th>mean</th>\n",
       "      <th>std</th>\n",
       "      <th>min</th>\n",
       "      <th>25%</th>\n",
       "      <th>50%</th>\n",
       "      <th>75%</th>\n",
       "      <th>max</th>\n",
       "    </tr>\n",
       "  </thead>\n",
       "  <tbody>\n",
       "    <tr>\n",
       "      <th>Amount</th>\n",
       "      <td>1194.0</td>\n",
       "      <td>5178.089615</td>\n",
       "      <td>2804.921955</td>\n",
       "      <td>508.0</td>\n",
       "      <td>2799.0</td>\n",
       "      <td>5152.0</td>\n",
       "      <td>7626.0</td>\n",
       "      <td>9992.0</td>\n",
       "    </tr>\n",
       "    <tr>\n",
       "      <th>Profit</th>\n",
       "      <td>1194.0</td>\n",
       "      <td>1348.992462</td>\n",
       "      <td>1117.992573</td>\n",
       "      <td>50.0</td>\n",
       "      <td>410.0</td>\n",
       "      <td>1014.0</td>\n",
       "      <td>2035.0</td>\n",
       "      <td>4930.0</td>\n",
       "    </tr>\n",
       "    <tr>\n",
       "      <th>Quantity</th>\n",
       "      <td>1194.0</td>\n",
       "      <td>10.674204</td>\n",
       "      <td>5.777102</td>\n",
       "      <td>1.0</td>\n",
       "      <td>6.0</td>\n",
       "      <td>11.0</td>\n",
       "      <td>16.0</td>\n",
       "      <td>20.0</td>\n",
       "    </tr>\n",
       "    <tr>\n",
       "      <th>Category</th>\n",
       "      <td>1194.0</td>\n",
       "      <td>1.009213</td>\n",
       "      <td>0.812155</td>\n",
       "      <td>0.0</td>\n",
       "      <td>0.0</td>\n",
       "      <td>1.0</td>\n",
       "      <td>2.0</td>\n",
       "      <td>2.0</td>\n",
       "    </tr>\n",
       "    <tr>\n",
       "      <th>Sub-Category</th>\n",
       "      <td>1194.0</td>\n",
       "      <td>5.891960</td>\n",
       "      <td>3.390617</td>\n",
       "      <td>0.0</td>\n",
       "      <td>3.0</td>\n",
       "      <td>6.0</td>\n",
       "      <td>9.0</td>\n",
       "      <td>11.0</td>\n",
       "    </tr>\n",
       "    <tr>\n",
       "      <th>PaymentMode</th>\n",
       "      <td>1194.0</td>\n",
       "      <td>2.043551</td>\n",
       "      <td>1.390223</td>\n",
       "      <td>0.0</td>\n",
       "      <td>1.0</td>\n",
       "      <td>2.0</td>\n",
       "      <td>3.0</td>\n",
       "      <td>4.0</td>\n",
       "    </tr>\n",
       "    <tr>\n",
       "      <th>State</th>\n",
       "      <td>1194.0</td>\n",
       "      <td>2.432998</td>\n",
       "      <td>1.711639</td>\n",
       "      <td>0.0</td>\n",
       "      <td>1.0</td>\n",
       "      <td>2.0</td>\n",
       "      <td>4.0</td>\n",
       "      <td>5.0</td>\n",
       "    </tr>\n",
       "    <tr>\n",
       "      <th>City</th>\n",
       "      <td>1194.0</td>\n",
       "      <td>8.517588</td>\n",
       "      <td>5.284380</td>\n",
       "      <td>0.0</td>\n",
       "      <td>4.0</td>\n",
       "      <td>9.0</td>\n",
       "      <td>13.0</td>\n",
       "      <td>17.0</td>\n",
       "    </tr>\n",
       "    <tr>\n",
       "      <th>Order Month</th>\n",
       "      <td>1194.0</td>\n",
       "      <td>6.712730</td>\n",
       "      <td>3.487550</td>\n",
       "      <td>1.0</td>\n",
       "      <td>4.0</td>\n",
       "      <td>7.0</td>\n",
       "      <td>10.0</td>\n",
       "      <td>12.0</td>\n",
       "    </tr>\n",
       "    <tr>\n",
       "      <th>Order Year</th>\n",
       "      <td>1194.0</td>\n",
       "      <td>2022.240369</td>\n",
       "      <td>1.424847</td>\n",
       "      <td>2020.0</td>\n",
       "      <td>2021.0</td>\n",
       "      <td>2022.0</td>\n",
       "      <td>2023.0</td>\n",
       "      <td>2025.0</td>\n",
       "    </tr>\n",
       "  </tbody>\n",
       "</table>\n",
       "</div>"
      ],
      "text/plain": [
       "               count         mean          std     min     25%     50%  \\\n",
       "Amount        1194.0  5178.089615  2804.921955   508.0  2799.0  5152.0   \n",
       "Profit        1194.0  1348.992462  1117.992573    50.0   410.0  1014.0   \n",
       "Quantity      1194.0    10.674204     5.777102     1.0     6.0    11.0   \n",
       "Category      1194.0     1.009213     0.812155     0.0     0.0     1.0   \n",
       "Sub-Category  1194.0     5.891960     3.390617     0.0     3.0     6.0   \n",
       "PaymentMode   1194.0     2.043551     1.390223     0.0     1.0     2.0   \n",
       "State         1194.0     2.432998     1.711639     0.0     1.0     2.0   \n",
       "City          1194.0     8.517588     5.284380     0.0     4.0     9.0   \n",
       "Order Month   1194.0     6.712730     3.487550     1.0     4.0     7.0   \n",
       "Order Year    1194.0  2022.240369     1.424847  2020.0  2021.0  2022.0   \n",
       "\n",
       "                 75%     max  \n",
       "Amount        7626.0  9992.0  \n",
       "Profit        2035.0  4930.0  \n",
       "Quantity        16.0    20.0  \n",
       "Category         2.0     2.0  \n",
       "Sub-Category     9.0    11.0  \n",
       "PaymentMode      3.0     4.0  \n",
       "State            4.0     5.0  \n",
       "City            13.0    17.0  \n",
       "Order Month     10.0    12.0  \n",
       "Order Year    2023.0  2025.0  "
      ]
     },
     "execution_count": 19,
     "metadata": {},
     "output_type": "execute_result"
    }
   ],
   "source": [
    "df.describe().T"
   ]
  },
  {
   "cell_type": "code",
   "execution_count": 20,
   "id": "2686fa65-3397-4ce9-9577-af0aa8766e0f",
   "metadata": {},
   "outputs": [
    {
     "name": "stdout",
     "output_type": "stream",
     "text": [
      "Correlation Matrix (Raw):\n",
      "                 Amount    Profit  Quantity  Category  Sub-Category  \\\n",
      "Amount        1.000000  0.675285  0.044631 -0.008060      0.005322   \n",
      "Profit        0.675285  1.000000  0.066088  0.016761     -0.039911   \n",
      "Quantity      0.044631  0.066088  1.000000 -0.058851     -0.005094   \n",
      "Category     -0.008060  0.016761 -0.058851  1.000000     -0.127790   \n",
      "Sub-Category  0.005322 -0.039911 -0.005094 -0.127790      1.000000   \n",
      "PaymentMode  -0.046999  0.017636  0.020763  0.014492      0.005978   \n",
      "State        -0.001241 -0.021411  0.006988 -0.074025      0.019622   \n",
      "City          0.038170  0.038818 -0.011880  0.038927     -0.091752   \n",
      "Order Month   0.008322 -0.027834  0.020521  0.035856      0.018710   \n",
      "Order Year   -0.000468  0.031822  0.004634  0.001707     -0.027760   \n",
      "\n",
      "              PaymentMode     State      City  Order Month  Order Year  \n",
      "Amount          -0.046999 -0.001241  0.038170     0.008322   -0.000468  \n",
      "Profit           0.017636 -0.021411  0.038818    -0.027834    0.031822  \n",
      "Quantity         0.020763  0.006988 -0.011880     0.020521    0.004634  \n",
      "Category         0.014492 -0.074025  0.038927     0.035856    0.001707  \n",
      "Sub-Category     0.005978  0.019622 -0.091752     0.018710   -0.027760  \n",
      "PaymentMode      1.000000 -0.023079 -0.013910     0.046841   -0.028563  \n",
      "State           -0.023079  1.000000 -0.637368    -0.049776   -0.017965  \n",
      "City            -0.013910 -0.637368  1.000000     0.076526    0.042020  \n",
      "Order Month      0.046841 -0.049776  0.076526     1.000000   -0.210610  \n",
      "Order Year      -0.028563 -0.017965  0.042020    -0.210610    1.000000  \n"
     ]
    },
    {
     "data": {
      "image/png": "[encoded data removed]",
      "text/plain": [
       "<Figure size 1000x800 with 2 Axes>"
      ]
     },
     "metadata": {},
     "output_type": "display_data"
    }
   ],
   "source": [
    "numerical_df = df.select_dtypes(include=np.number)\n",
    "\n",
    "# Calculate the correlation matrix\n",
    "correlation_matrix = numerical_df.corr()\n",
    "\n",
    "# Print the correlation matrix\n",
    "print(\"Correlation Matrix (Raw):\\n\", correlation_matrix)\n",
    "\n",
    "plt.figure(figsize=(10, 8)) # Adjust size as needed\n",
    "sns.heatmap(correlation_matrix, annot=True, cmap='coolwarm', fmt=\".2f\", linewidths=.5)\n",
    "plt.title('Correlation Matrix Heatmap of Numerical Features')\n",
    "plt.show()"
   ]
  },
  {
   "cell_type": "code",
   "execution_count": 21,
   "id": "7b3955df",
   "metadata": {},
   "outputs": [],
   "source": [
    "# Spliting the data into features and target\n",
    "X = df.drop(columns=['Profit'])\n",
    "y = df['Profit']"
   ]
  },
  {
   "cell_type": "code",
   "execution_count": 22,
   "id": "db072c72",
   "metadata": {},
   "outputs": [],
   "source": [
    "# Train-test split\n",
    "X_train, X_test, y_train, y_test = train_test_split(X, y, test_size=0.3, random_state=42)"
   ]
  },
  {
   "cell_type": "code",
   "execution_count": 23,
   "id": "9dde8b97-c572-4ebf-b9b6-95531291861f",
   "metadata": {},
   "outputs": [],
   "source": [
    "from sklearn.preprocessing import StandardScaler\n",
    "\n",
    "\n",
    "scaler = StandardScaler()\n",
    "X_train = scaler.fit_transform(X_train)\n",
    "X_test = scaler.transform(X_test)"
   ]
  },
  {
   "cell_type": "code",
   "execution_count": 24,
   "id": "7e152339",
   "metadata": {},
   "outputs": [],
   "source": [
    "from sklearn.tree import ExtraTreeRegressor\n",
    "from sklearn.ensemble import RandomForestRegressor\n",
    "\n",
    "#Building and training the model\n",
    "model = RandomForestRegressor(random_state=42)\n",
    "model.fit(X_train, y_train)\n",
    "y_pred = model.predict(X_test)"
   ]
  },
  {
   "cell_type": "code",
   "execution_count": 25,
   "id": "eb4c42a3-c446-417c-a2f0-299c17d58492",
   "metadata": {},
   "outputs": [
    {
     "data": {
      "text/plain": [
       "array([ 458.28,  267.94, 1899.13, 1293.67, 1829.53,  614.42, 1001.66,\n",
       "       1273.02, 2154.33, 1312.72])"
      ]
     },
     "execution_count": 25,
     "metadata": {},
     "output_type": "execute_result"
    }
   ],
   "source": [
    "y_pred[:10]"
   ]
  },
  {
   "cell_type": "code",
   "execution_count": 26,
   "id": "505e9201-d38d-4fa1-936a-ddcf559953c2",
   "metadata": {},
   "outputs": [
    {
     "data": {
      "text/plain": [
       "array([ 104,   73, 1836, 2211,  451, 1470,  576, 1849, 1010, 1153])"
      ]
     },
     "execution_count": 26,
     "metadata": {},
     "output_type": "execute_result"
    }
   ],
   "source": [
    "y_test[:10].values"
   ]
  },
  {
   "cell_type": "code",
   "execution_count": 27,
   "id": "ada8c1c5",
   "metadata": {},
   "outputs": [],
   "source": [
    "from sklearn.metrics import r2_score, mean_squared_error, mean_absolute_error, root_mean_squared_error\n"
   ]
  },
  {
   "cell_type": "code",
   "execution_count": 28,
   "id": "54cee76b-7e5e-45fe-a9f0-ce834aa114e2",
   "metadata": {},
   "outputs": [
    {
     "name": "stdout",
     "output_type": "stream",
     "text": [
      "--- Model Evaluation ---\n",
      "\n",
      "R-squared (R2 Score): 0.4740\n",
      "\n",
      "Mean Squared Error (MSE): 634780.88\n",
      "\n",
      "Root Mean Squared Error (RMSE): 796.73\n",
      "\n",
      "Mean Absolute Error (MAE): 581.30\n"
     ]
    }
   ],
   "source": [
    "print(\"--- Model Evaluation ---\")\n",
    "\n",
    "# Calculate evaluation metrics\n",
    "r2 = r2_score(y_test, y_pred)\n",
    "print(f\"\\nR-squared (R2 Score): {r2:.4f}\")\n",
    "\n",
    "mse = mean_squared_error(y_test, y_pred)\n",
    "print(f\"\\nMean Squared Error (MSE): {mse:.2f}\")\n",
    "\n",
    "rmse = root_mean_squared_error(y_test, y_pred)\n",
    "print(f\"\\nRoot Mean Squared Error (RMSE): {rmse:.2f}\")\n",
    "\n",
    "mae = mean_absolute_error(y_test, y_pred)\n",
    "print(f\"\\nMean Absolute Error (MAE): {mae:.2f}\")"
   ]
  },
  {
   "cell_type": "markdown",
   "id": "836c95b7-9df5-4ba3-bf34-7becf99575c4",
   "metadata": {},
   "source": [
    "### Predicted vs. Actual Values Scatter Plot"
   ]
  },
  {
   "cell_type": "code",
   "execution_count": 29,
   "id": "17772354",
   "metadata": {},
   "outputs": [
    {
     "data": {
      "image/png": "[encoded data removed]",
      "text/plain": [
       "<Figure size 800x600 with 1 Axes>"
      ]
     },
     "metadata": {},
     "output_type": "display_data"
    }
   ],
   "source": [
    "residuals = y_test - y_pred\n",
    "\n",
    "\n",
    "plt.figure(figsize=(8, 6))\n",
    "sns.scatterplot(x=y_test, y=y_pred, alpha=0.7)\n",
    "plt.plot([min(y_test), max(y_test)], [min(y_test), max(y_test)], color='red', linestyle='--', lw=2, label='Ideal Prediction (y=x)')\n",
    "plt.title('Predicted vs. Actual Values')\n",
    "plt.xlabel('Actual Values (y_test)')\n",
    "plt.ylabel('Predicted Values (y_pred)')\n",
    "plt.grid(True, linestyle=':', alpha=0.6)\n",
    "plt.legend()\n",
    "plt.show()\n"
   ]
  },
  {
   "cell_type": "code",
   "execution_count": 30,
   "id": "251287be",
   "metadata": {},
   "outputs": [
    {
     "data": {
      "text/plain": [
       "['encoders.pkl']"
      ]
     },
     "execution_count": 30,
     "metadata": {},
     "output_type": "execute_result"
    }
   ],
   "source": [
    "import joblib\n",
    "\n",
    "joblib.dump(model, 'model.pkl')\n",
    "joblib.dump(scaler, 'scaler.pkl')\n",
    "joblib.dump(label_encoders, 'encoders.pkl')"
   ]
  },
  {
   "cell_type": "markdown",
   "id": "08100ec0",
   "metadata": {},
   "source": [
    "Checking for Accuracy"
   ]
  },
  {
   "cell_type": "code",
   "execution_count": null,
   "id": "82a2f863-2edc-4d3a-a337-e239c7dd2928",
   "metadata": {},
   "outputs": [],
   "source": []
  }
 ],
 "metadata": {
  "kernelspec": {
   "display_name": "Python 3 (ipykernel)",
   "language": "python",
   "name": "python3"
  },
  "language_info": {
   "codemirror_mode": {
    "name": "ipython",
    "version": 3
   },
   "file_extension": ".py",
   "mimetype": "text/x-python",
   "name": "python",
   "nbconvert_exporter": "python",
   "pygments_lexer": "ipython3",
   "version": "3.11.5"
  }
 },
 "nbformat": 4,
 "nbformat_minor": 5
}
